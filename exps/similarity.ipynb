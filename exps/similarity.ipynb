{
 "cells": [
  {
   "cell_type": "code",
   "execution_count": 20,
   "metadata": {},
   "outputs": [
    {
     "name": "stdout",
     "output_type": "stream",
     "text": [
      "shape: (5, 5)\n",
      "┌────────────────────┬────────────────────┬────────────────────┬──────────────┬────────────────────┐\n",
      "│ place_id           ┆ review_id          ┆ feature            ┆ embedding    ┆ cosine_similarity  │\n",
      "│ ---                ┆ ---                ┆ ---                ┆ ---          ┆ ---                │\n",
      "│ str                ┆ str                ┆ str                ┆ list[f64]    ┆ f64                │\n",
      "╞════════════════════╪════════════════════╪════════════════════╪══════════════╪════════════════════╡\n",
      "│ ChIJoTcat9SMGGAR6G ┆ ChdDSUhNMG9nS0VJQ0 ┆ Step 3: 外国からの ┆ [0.001227,   ┆ 0.512461           │\n",
      "│ GG8zdcZvE          ┆ FnSUNEb3FlMj…      ┆ 観光客も多く訪れる ┆ 0.012029, …  ┆                    │\n",
      "│                    ┆                    ┆                    ┆ 0.01594…     ┆                    │\n",
      "│ ChIJoTcat9SMGGAR6G ┆ ChdDSUhNMG9nS0VJQ0 ┆ 都民や観光客に人気 ┆ [0.06745,    ┆ 0.454456           │\n",
      "│ GG8zdcZvE          ┆ FnSURqby0tTm…      ┆ がある             ┆ -0.008885, … ┆                    │\n",
      "│                    ┆                    ┆                    ┆ 0.01348…     ┆                    │\n",
      "│ ChIJoTcat9SMGGAR6G ┆ ChZDSUhNMG9nS0VJQ0 ┆ インバウンドの影響 ┆ [0.011898,   ┆ 0.453814           │\n",
      "│ GG8zdcZvE          ┆ FnSUM5Ni1xUE…      ┆ で外国人観光客も多 ┆ -0.014897, … ┆                    │\n",
      "│                    ┆                    ┆ く、国際色豊かな雰 ┆ 0.0003…      ┆                    │\n",
      "│                    ┆                    ┆ 囲気               ┆              ┆                    │\n",
      "│ ChIJoTcat9SMGGAR6G ┆ ChZDSUhNMG9nS0VJQ0 ┆ 観光客としてだけで ┆ [0.047373,   ┆ 0.418199           │\n",
      "│ GG8zdcZvE          ┆ FnSUM5Ni1xUE…      ┆ なく、地元の方々の ┆ 0.005483, …  ┆                    │\n",
      "│                    ┆                    ┆ 生活スポットとして ┆ 0.00424…     ┆                    │\n",
      "│                    ┆                    ┆ も人気…            ┆              ┆                    │\n",
      "│ ChIJoTcat9SMGGAR6G ┆ ChZDSUhNMG9nS0VJQ0 ┆ 無料で観光できるた ┆ [0.037475,   ┆ 0.392487           │\n",
      "│ GG8zdcZvE          ┆ FnSUM5Ni1xUE…      ┆ め、多くの人が訪れ ┆ -0.017462, … ┆                    │\n",
      "│                    ┆                    ┆ る人気観光地       ┆ 0.0303…      ┆                    │\n",
      "└────────────────────┴────────────────────┴────────────────────┴──────────────┴────────────────────┘\n"
     ]
    },
    {
     "name": "stderr",
     "output_type": "stream",
     "text": [
      "/var/folders/97/ycz7vyts3nb9l4w_17fp37800000gn/T/ipykernel_99136/3128112685.py:24: DeprecationWarning: `apply` is deprecated. It has been renamed to `map_elements`.\n",
      "  embeddings[\"embedding\"]\n",
      "/var/folders/97/ycz7vyts3nb9l4w_17fp37800000gn/T/ipykernel_99136/3128112685.py:24: MapWithoutReturnDtypeWarning: Calling `map_elements` without specifying `return_dtype` can lead to unpredictable results. Specify `return_dtype` to silence this warning.\n",
      "  embeddings[\"embedding\"]\n"
     ]
    }
   ],
   "source": [
    "import os\n",
    "import time\n",
    "import json\n",
    "from sklearn.metrics.pairwise import cosine_similarity\n",
    "import polars as pl\n",
    "from tqdm import tqdm\n",
    "from dotenv import load_dotenv\n",
    "from openai import OpenAI\n",
    "\n",
    "# Load the .env file\n",
    "load_dotenv(\"../.env\")\n",
    "client = OpenAI()\n",
    "\n",
    "json_file_path = \"../data/inputs/embeddings.json\"\n",
    "embeddings = pl.read_json(json_file_path)\n",
    "\n",
    "def get_similarity(text, embeddings):\n",
    "\tembedding = (\n",
    "\t\tclient.embeddings.create(input=text, model=\"text-embedding-3-small\")\n",
    "\t\t.data[0]\n",
    "\t\t.embedding\n",
    "\t)\n",
    "\tembeddings = embeddings.with_columns(\n",
    "\t\tembeddings[\"embedding\"]\n",
    "\t\t.apply(lambda e: cosine_similarity([e], [embedding])[0][0])\n",
    "\t\t.alias(\"cosine_similarity\")\n",
    "\t)\n",
    "\tembeddings = embeddings.sort(\"cosine_similarity\", descending=True)\n",
    "\treturn embeddings"
   ]
  },
  {
   "cell_type": "code",
   "execution_count": 23,
   "metadata": {},
   "outputs": [
    {
     "name": "stderr",
     "output_type": "stream",
     "text": [
      "/var/folders/97/ycz7vyts3nb9l4w_17fp37800000gn/T/ipykernel_99136/3128112685.py:24: DeprecationWarning: `apply` is deprecated. It has been renamed to `map_elements`.\n",
      "  embeddings[\"embedding\"]\n",
      "/var/folders/97/ycz7vyts3nb9l4w_17fp37800000gn/T/ipykernel_99136/3128112685.py:24: MapWithoutReturnDtypeWarning: Calling `map_elements` without specifying `return_dtype` can lead to unpredictable results. Specify `return_dtype` to silence this warning.\n",
      "  embeddings[\"embedding\"]\n"
     ]
    },
    {
     "data": {
      "text/html": [
       "<div><style>\n",
       ".dataframe > thead > tr,\n",
       ".dataframe > tbody > tr {\n",
       "  text-align: right;\n",
       "  white-space: pre-wrap;\n",
       "}\n",
       "</style>\n",
       "<small>shape: (5, 5)</small><table border=\"1\" class=\"dataframe\"><thead><tr><th>place_id</th><th>review_id</th><th>feature</th><th>embedding</th><th>cosine_similarity</th></tr><tr><td>str</td><td>str</td><td>str</td><td>list[f64]</td><td>f64</td></tr></thead><tbody><tr><td>&quot;ChIJoTcat9SMGGAR6GGG8zdcZvE&quot;</td><td>&quot;ChdDSUhNMG9nS0VJQ0FnSUNEb3FlMj…</td><td>&quot;Step 3: 外国からの観光客も多く訪れる&quot;</td><td>[0.001227, 0.012029, … 0.015946]</td><td>0.512493</td></tr><tr><td>&quot;ChIJoTcat9SMGGAR6GGG8zdcZvE&quot;</td><td>&quot;ChdDSUhNMG9nS0VJQ0FnSURqby0tTm…</td><td>&quot;都民や観光客に人気がある&quot;</td><td>[0.06745, -0.008885, … 0.01348]</td><td>0.454484</td></tr><tr><td>&quot;ChIJoTcat9SMGGAR6GGG8zdcZvE&quot;</td><td>&quot;ChZDSUhNMG9nS0VJQ0FnSUM5Ni1xUE…</td><td>&quot;インバウンドの影響で外国人観光客も多く、国際色豊かな雰囲気&quot;</td><td>[0.011898, -0.014897, … 0.0003]</td><td>0.453831</td></tr><tr><td>&quot;ChIJoTcat9SMGGAR6GGG8zdcZvE&quot;</td><td>&quot;ChZDSUhNMG9nS0VJQ0FnSUM5Ni1xUE…</td><td>&quot;観光客としてだけでなく、地元の方々の生活スポットとしても人気…</td><td>[0.047373, 0.005483, … 0.004243]</td><td>0.418255</td></tr><tr><td>&quot;ChIJoTcat9SMGGAR6GGG8zdcZvE&quot;</td><td>&quot;ChZDSUhNMG9nS0VJQ0FnSUM5Ni1xUE…</td><td>&quot;無料で観光できるため、多くの人が訪れる人気観光地&quot;</td><td>[0.037475, -0.017462, … 0.03031]</td><td>0.392539</td></tr></tbody></table></div>"
      ],
      "text/plain": [
       "shape: (5, 5)\n",
       "┌────────────────────┬────────────────────┬────────────────────┬──────────────┬────────────────────┐\n",
       "│ place_id           ┆ review_id          ┆ feature            ┆ embedding    ┆ cosine_similarity  │\n",
       "│ ---                ┆ ---                ┆ ---                ┆ ---          ┆ ---                │\n",
       "│ str                ┆ str                ┆ str                ┆ list[f64]    ┆ f64                │\n",
       "╞════════════════════╪════════════════════╪════════════════════╪══════════════╪════════════════════╡\n",
       "│ ChIJoTcat9SMGGAR6G ┆ ChdDSUhNMG9nS0VJQ0 ┆ Step 3: 外国からの ┆ [0.001227,   ┆ 0.512493           │\n",
       "│ GG8zdcZvE          ┆ FnSUNEb3FlMj…      ┆ 観光客も多く訪れる ┆ 0.012029, …  ┆                    │\n",
       "│                    ┆                    ┆                    ┆ 0.01594…     ┆                    │\n",
       "│ ChIJoTcat9SMGGAR6G ┆ ChdDSUhNMG9nS0VJQ0 ┆ 都民や観光客に人気 ┆ [0.06745,    ┆ 0.454484           │\n",
       "│ GG8zdcZvE          ┆ FnSURqby0tTm…      ┆ がある             ┆ -0.008885, … ┆                    │\n",
       "│                    ┆                    ┆                    ┆ 0.01348…     ┆                    │\n",
       "│ ChIJoTcat9SMGGAR6G ┆ ChZDSUhNMG9nS0VJQ0 ┆ インバウンドの影響 ┆ [0.011898,   ┆ 0.453831           │\n",
       "│ GG8zdcZvE          ┆ FnSUM5Ni1xUE…      ┆ で外国人観光客も多 ┆ -0.014897, … ┆                    │\n",
       "│                    ┆                    ┆ く、国際色豊かな雰 ┆ 0.0003…      ┆                    │\n",
       "│                    ┆                    ┆ 囲気               ┆              ┆                    │\n",
       "│ ChIJoTcat9SMGGAR6G ┆ ChZDSUhNMG9nS0VJQ0 ┆ 観光客としてだけで ┆ [0.047373,   ┆ 0.418255           │\n",
       "│ GG8zdcZvE          ┆ FnSUM5Ni1xUE…      ┆ なく、地元の方々の ┆ 0.005483, …  ┆                    │\n",
       "│                    ┆                    ┆ 生活スポットとして ┆ 0.00424…     ┆                    │\n",
       "│                    ┆                    ┆ も人気…            ┆              ┆                    │\n",
       "│ ChIJoTcat9SMGGAR6G ┆ ChZDSUhNMG9nS0VJQ0 ┆ 無料で観光できるた ┆ [0.037475,   ┆ 0.392539           │\n",
       "│ GG8zdcZvE          ┆ FnSUM5Ni1xUE…      ┆ め、多くの人が訪れ ┆ -0.017462, … ┆                    │\n",
       "│                    ┆                    ┆ る人気観光地       ┆ 0.0303…      ┆                    │\n",
       "└────────────────────┴────────────────────┴────────────────────┴──────────────┴────────────────────┘"
      ]
     },
     "execution_count": 23,
     "metadata": {},
     "output_type": "execute_result"
    }
   ],
   "source": [
    "sorted_embeddings = get_similarity(\"外国人におすすめ\", embeddings)\n",
    "sorted_embeddings.head(5)"
   ]
  },
  {
   "cell_type": "code",
   "execution_count": 22,
   "metadata": {},
   "outputs": [
    {
     "name": "stderr",
     "output_type": "stream",
     "text": [
      "/var/folders/97/ycz7vyts3nb9l4w_17fp37800000gn/T/ipykernel_99136/3128112685.py:24: DeprecationWarning: `apply` is deprecated. It has been renamed to `map_elements`.\n",
      "  embeddings[\"embedding\"]\n",
      "/var/folders/97/ycz7vyts3nb9l4w_17fp37800000gn/T/ipykernel_99136/3128112685.py:24: MapWithoutReturnDtypeWarning: Calling `map_elements` without specifying `return_dtype` can lead to unpredictable results. Specify `return_dtype` to silence this warning.\n",
      "  embeddings[\"embedding\"]\n"
     ]
    },
    {
     "data": {
      "text/html": [
       "<div><style>\n",
       ".dataframe > thead > tr,\n",
       ".dataframe > tbody > tr {\n",
       "  text-align: right;\n",
       "  white-space: pre-wrap;\n",
       "}\n",
       "</style>\n",
       "<small>shape: (5, 5)</small><table border=\"1\" class=\"dataframe\"><thead><tr><th>place_id</th><th>review_id</th><th>feature</th><th>embedding</th><th>cosine_similarity</th></tr><tr><td>str</td><td>str</td><td>str</td><td>list[f64]</td><td>f64</td></tr></thead><tbody><tr><td>&quot;ChIJoTcat9SMGGAR6GGG8zdcZvE&quot;</td><td>&quot;ChdDSUhNMG9nS0VJQ0FnSUNEb3FlMj…</td><td>&quot;Step 2: 子供から大人まで楽しめるイベントが多い&quot;</td><td>[0.050672, 0.017772, … 0.017475]</td><td>0.554717</td></tr><tr><td>&quot;ChIJoTcat9SMGGAR6GGG8zdcZvE&quot;</td><td>&quot;ChZDSUhNMG9nS0VJQ0FnSUM5Ni1xUE…</td><td>&quot;静かな空間で、リラックスしながら景色を楽しめる場所&quot;</td><td>[0.027346, 0.00253, … 0.00994]</td><td>0.43679</td></tr><tr><td>&quot;ChIJoTcat9SMGGAR6GGG8zdcZvE&quot;</td><td>&quot;ChZDSUhNMG9nS0VJQ0FnSUM5Ni1xUE…</td><td>&quot;地元の方々と触れ合う機会も多く、地元の文化や生活に触れること…</td><td>[0.00899, 0.020318, … -0.0034]</td><td>0.415958</td></tr><tr><td>&quot;ChIJoTcat9SMGGAR6GGG8zdcZvE&quot;</td><td>&quot;ChZDSUhNMG9nS0VJQ0FnSUM5Ni1xUE…</td><td>&quot;季節ごとに異なる景色を楽しめるため、何度訪れても飽きない&quot;</td><td>[0.027305, -0.00142, … 0.002894]</td><td>0.399547</td></tr><tr><td>&quot;ChIJoTcat9SMGGAR6GGG8zdcZvE&quot;</td><td>&quot;ChZDSUhNMG9nS0VJQ0FnSUM5Ni1xUE…</td><td>&quot;夜景も美しく、ロマンチックな雰囲気を楽しめる&quot;</td><td>[0.0059, -0.013158, … 0.005091]</td><td>0.382516</td></tr></tbody></table></div>"
      ],
      "text/plain": [
       "shape: (5, 5)\n",
       "┌────────────────────┬────────────────────┬────────────────────┬──────────────┬────────────────────┐\n",
       "│ place_id           ┆ review_id          ┆ feature            ┆ embedding    ┆ cosine_similarity  │\n",
       "│ ---                ┆ ---                ┆ ---                ┆ ---          ┆ ---                │\n",
       "│ str                ┆ str                ┆ str                ┆ list[f64]    ┆ f64                │\n",
       "╞════════════════════╪════════════════════╪════════════════════╪══════════════╪════════════════════╡\n",
       "│ ChIJoTcat9SMGGAR6G ┆ ChdDSUhNMG9nS0VJQ0 ┆ Step 2: 子供から大 ┆ [0.050672,   ┆ 0.554717           │\n",
       "│ GG8zdcZvE          ┆ FnSUNEb3FlMj…      ┆ 人まで楽しめるイベ ┆ 0.017772, …  ┆                    │\n",
       "│                    ┆                    ┆ ントが多い         ┆ 0.01747…     ┆                    │\n",
       "│ ChIJoTcat9SMGGAR6G ┆ ChZDSUhNMG9nS0VJQ0 ┆ 静かな空間で、リラ ┆ [0.027346,   ┆ 0.43679            │\n",
       "│ GG8zdcZvE          ┆ FnSUM5Ni1xUE…      ┆ ックスしながら景色 ┆ 0.00253, …   ┆                    │\n",
       "│                    ┆                    ┆ を楽しめる場所     ┆ 0.00994]     ┆                    │\n",
       "│ ChIJoTcat9SMGGAR6G ┆ ChZDSUhNMG9nS0VJQ0 ┆ 地元の方々と触れ合 ┆ [0.00899,    ┆ 0.415958           │\n",
       "│ GG8zdcZvE          ┆ FnSUM5Ni1xUE…      ┆ う機会も多く、地元 ┆ 0.020318, …  ┆                    │\n",
       "│                    ┆                    ┆ の文化や生活に触れ ┆ -0.0034]     ┆                    │\n",
       "│                    ┆                    ┆ ること…            ┆              ┆                    │\n",
       "│ ChIJoTcat9SMGGAR6G ┆ ChZDSUhNMG9nS0VJQ0 ┆ 季節ごとに異なる景 ┆ [0.027305,   ┆ 0.399547           │\n",
       "│ GG8zdcZvE          ┆ FnSUM5Ni1xUE…      ┆ 色を楽しめるため、 ┆ -0.00142, …  ┆                    │\n",
       "│                    ┆                    ┆ 何度訪れても飽きな ┆ 0.00289…     ┆                    │\n",
       "│                    ┆                    ┆ い                 ┆              ┆                    │\n",
       "│ ChIJoTcat9SMGGAR6G ┆ ChZDSUhNMG9nS0VJQ0 ┆ 夜景も美しく、ロマ ┆ [0.0059,     ┆ 0.382516           │\n",
       "│ GG8zdcZvE          ┆ FnSUM5Ni1xUE…      ┆ ンチックな雰囲気を ┆ -0.013158, … ┆                    │\n",
       "│                    ┆                    ┆ 楽しめる           ┆ 0.005091…    ┆                    │\n",
       "└────────────────────┴────────────────────┴────────────────────┴──────────────┴────────────────────┘"
      ]
     },
     "execution_count": 22,
     "metadata": {},
     "output_type": "execute_result"
    }
   ],
   "source": [
    "sorted_embeddings = get_similarity(\"子供が楽しめる場所。できれば歴史に触れられると嬉しい。\", embeddings)\n",
    "sorted_embeddings.head(5)"
   ]
  },
  {
   "cell_type": "code",
   "execution_count": null,
   "metadata": {},
   "outputs": [],
   "source": []
  },
  {
   "cell_type": "code",
   "execution_count": 8,
   "metadata": {},
   "outputs": [],
   "source": [
    "import os\n",
    "import json\n",
    "import numpy as np\n",
    "import polars as pl\n",
    "from sklearn.decomposition import PCA\n",
    "from sklearn.metrics.pairwise import cosine_similarity\n",
    "from dotenv import load_dotenv\n",
    "from openai import OpenAI\n",
    "\n",
    "# Load the .env file\n",
    "load_dotenv(\"../.env\")\n",
    "client = OpenAI()\n",
    "\n",
    "json_file_path = \"../data/inputs/embeddings.json\"\n",
    "embeddings = pl.read_json(json_file_path)\n",
    "\n",
    "# Extract embeddings to a numpy array for PCA\n",
    "embedding_matrix = np.array(embeddings[\"embedding\"].to_list())\n",
    "\n",
    "# Perform PCA to reduce dimensionality\n",
    "pca = PCA(n_components=50)  # Adjust the number of components as needed\n",
    "reduced_embeddings = pca.fit_transform(embedding_matrix)\n",
    "\n",
    "# Replace the original embeddings in the DataFrame with the reduced embeddings\n",
    "embeddings = embeddings.with_columns(pl.Series(\"reduced_embedding\", reduced_embeddings.tolist()))\n",
    "\n",
    "def get_similarity(text, embeddings, pca):\n",
    "    # Get the sample embedding\n",
    "    sample_embedding = (\n",
    "        client.embeddings.create(input=text, model=\"text-embedding-ada-002\")\n",
    "        .data[0]\n",
    "        .embedding\n",
    "    )\n",
    "    \n",
    "    # Reduce the dimensionality of the sample embedding\n",
    "    reduced_sample_embedding = pca.transform([sample_embedding])[0]\n",
    "\n",
    "    # Compute cosine similarity for each reduced embedding\n",
    "    embeddings = embeddings.with_columns(\n",
    "        embeddings[\"reduced_embedding\"]\n",
    "        .apply(lambda e: cosine_similarity([e], [reduced_sample_embedding])[0][0])\n",
    "        .alias(\"cosine_similarity\")\n",
    "    )\n",
    "\n",
    "    # Sort the DataFrame by the cosine similarity in descending order\n",
    "    sorted_embeddings = embeddings.sort(\"cosine_similarity\", descending=True)\n",
    "    return sorted_embeddings"
   ]
  },
  {
   "cell_type": "code",
   "execution_count": 10,
   "metadata": {},
   "outputs": [
    {
     "name": "stderr",
     "output_type": "stream",
     "text": [
      "/var/folders/97/ycz7vyts3nb9l4w_17fp37800000gn/T/ipykernel_5221/3628312714.py:40: DeprecationWarning: `apply` is deprecated. It has been renamed to `map_elements`.\n",
      "  embeddings[\"reduced_embedding\"]\n",
      "/var/folders/97/ycz7vyts3nb9l4w_17fp37800000gn/T/ipykernel_5221/3628312714.py:40: MapWithoutReturnDtypeWarning: Calling `map_elements` without specifying `return_dtype` can lead to unpredictable results. Specify `return_dtype` to silence this warning.\n",
      "  embeddings[\"reduced_embedding\"]\n"
     ]
    },
    {
     "data": {
      "text/html": [
       "<div><style>\n",
       ".dataframe > thead > tr,\n",
       ".dataframe > tbody > tr {\n",
       "  text-align: right;\n",
       "  white-space: pre-wrap;\n",
       "}\n",
       "</style>\n",
       "<small>shape: (5, 6)</small><table border=\"1\" class=\"dataframe\"><thead><tr><th>place_id</th><th>review_id</th><th>feature</th><th>embedding</th><th>reduced_embedding</th><th>cosine_similarity</th></tr><tr><td>str</td><td>str</td><td>str</td><td>list[f64]</td><td>list[f64]</td><td>f64</td></tr></thead><tbody><tr><td>&quot;ChIJoTcat9SMGGAR6GGG8zdcZvE&quot;</td><td>&quot;ChdDSUhNMG9nS0VJQ0FnSURqby0tTm…</td><td>&quot;現在は「ゴジラ」バージョンのプロジェクションマッピング&quot;</td><td>[-0.011986, 0.032607, … -0.007424]</td><td>[0.528753, 0.027889, … -0.014807]</td><td>0.348922</td></tr><tr><td>&quot;ChIJoTcat9SMGGAR6GGG8zdcZvE&quot;</td><td>&quot;ChdDSUhNMG9nS0VJQ0FnSURqby0tTm…</td><td>&quot;上映時間は10分間で、30分毎に通常版も上映される&quot;</td><td>[-0.001462, 0.077193, … -0.016847]</td><td>[0.315831, -0.218939, … -0.102579]</td><td>0.343878</td></tr><tr><td>&quot;ChIJoTcat9SMGGAR6GGG8zdcZvE&quot;</td><td>&quot;ChZDSUhNMG9nS0VJQ0FnSUNUN3ZPOU…</td><td>&quot;6. 都の職員が東京都島の焼酎やクラフトビールを販売している&quot;</td><td>[0.001604, 0.030078, … 0.027133]</td><td>[-0.052379, -0.290941, … 0.014298]</td><td>0.341943</td></tr><tr><td>&quot;ChIJoTcat9SMGGAR6GGG8zdcZvE&quot;</td><td>&quot;ChdDSUhNMG9nS0VJQ0FnSUNEb3FlMj…</td><td>&quot;Step 1: ピアノの飛び入り演奏が行われる&quot;</td><td>[0.012912, -0.003128, … -0.019431]</td><td>[0.355002, -0.05761, … -0.028673]</td><td>0.31963</td></tr><tr><td>&quot;ChIJoTcat9SMGGAR6GGG8zdcZvE&quot;</td><td>&quot;ChZDSUhNMG9nS0VJQ0FnSUNUN3ZPOU…</td><td>&quot;11. ゴジラの登場にワクワクする&quot;</td><td>[0.040052, 0.065419, … 0.007181]</td><td>[0.345285, 0.010216, … -0.05019]</td><td>0.247015</td></tr></tbody></table></div>"
      ],
      "text/plain": [
       "shape: (5, 6)\n",
       "┌────────────────┬────────────────┬────────────────┬───────────────┬───────────────┬───────────────┐\n",
       "│ place_id       ┆ review_id      ┆ feature        ┆ embedding     ┆ reduced_embed ┆ cosine_simila │\n",
       "│ ---            ┆ ---            ┆ ---            ┆ ---           ┆ ding          ┆ rity          │\n",
       "│ str            ┆ str            ┆ str            ┆ list[f64]     ┆ ---           ┆ ---           │\n",
       "│                ┆                ┆                ┆               ┆ list[f64]     ┆ f64           │\n",
       "╞════════════════╪════════════════╪════════════════╪═══════════════╪═══════════════╪═══════════════╡\n",
       "│ ChIJoTcat9SMGG ┆ ChdDSUhNMG9nS0 ┆ 現在は「ゴジラ ┆ [-0.011986,   ┆ [0.528753,    ┆ 0.348922      │\n",
       "│ AR6GGG8zdcZvE  ┆ VJQ0FnSURqby0t ┆ 」バージョンの ┆ 0.032607, …   ┆ 0.027889, …   ┆               │\n",
       "│                ┆ Tm…            ┆ プロジェクショ ┆ -0.007…       ┆ -0.0148…      ┆               │\n",
       "│                ┆                ┆ ンマッピング   ┆               ┆               ┆               │\n",
       "│ ChIJoTcat9SMGG ┆ ChdDSUhNMG9nS0 ┆ 上映時間は10分 ┆ [-0.001462,   ┆ [0.315831,    ┆ 0.343878      │\n",
       "│ AR6GGG8zdcZvE  ┆ VJQ0FnSURqby0t ┆ 間で、30分毎に ┆ 0.077193, …   ┆ -0.218939, …  ┆               │\n",
       "│                ┆ Tm…            ┆ 通常版も上映さ ┆ -0.016…       ┆ -0.102…       ┆               │\n",
       "│                ┆                ┆ れる           ┆               ┆               ┆               │\n",
       "│ ChIJoTcat9SMGG ┆ ChZDSUhNMG9nS0 ┆ 6. 都の職員が  ┆ [0.001604,    ┆ [-0.052379,   ┆ 0.341943      │\n",
       "│ AR6GGG8zdcZvE  ┆ VJQ0FnSUNUN3ZP ┆ 東京都島の焼酎 ┆ 0.030078, …   ┆ -0.290941, …  ┆               │\n",
       "│                ┆ OU…            ┆ やクラフトビー ┆ 0.02713…      ┆ 0.014…        ┆               │\n",
       "│                ┆                ┆ ルを販売してい ┆               ┆               ┆               │\n",
       "│                ┆                ┆ る             ┆               ┆               ┆               │\n",
       "│ ChIJoTcat9SMGG ┆ ChdDSUhNMG9nS0 ┆ Step 1: ピアノ ┆ [0.012912,    ┆ [0.355002,    ┆ 0.31963       │\n",
       "│ AR6GGG8zdcZvE  ┆ VJQ0FnSUNEb3Fl ┆ の飛び入り演奏 ┆ -0.003128, …  ┆ -0.05761, …   ┆               │\n",
       "│                ┆ Mj…            ┆ が行われる     ┆ -0.019…       ┆ -0.0286…      ┆               │\n",
       "│ ChIJoTcat9SMGG ┆ ChZDSUhNMG9nS0 ┆ 11. ゴジラの登 ┆ [0.040052,    ┆ [0.345285,    ┆ 0.247015      │\n",
       "│ AR6GGG8zdcZvE  ┆ VJQ0FnSUNUN3ZP ┆ 場にワクワクす ┆ 0.065419, …   ┆ 0.010216, …   ┆               │\n",
       "│                ┆ OU…            ┆ る             ┆ 0.00718…      ┆ -0.0501…      ┆               │\n",
       "└────────────────┴────────────────┴────────────────┴───────────────┴───────────────┴───────────────┘"
      ]
     },
     "execution_count": 10,
     "metadata": {},
     "output_type": "execute_result"
    }
   ],
   "source": [
    "# Example usage\n",
    "text = \"外国人におすすめ\"\n",
    "sorted_embeddings = get_similarity(text, embeddings, pca)\n",
    "sorted_embeddings.head(5)\n"
   ]
  },
  {
   "cell_type": "code",
   "execution_count": 11,
   "metadata": {},
   "outputs": [
    {
     "name": "stderr",
     "output_type": "stream",
     "text": [
      "/var/folders/97/ycz7vyts3nb9l4w_17fp37800000gn/T/ipykernel_5221/3628312714.py:40: DeprecationWarning: `apply` is deprecated. It has been renamed to `map_elements`.\n",
      "  embeddings[\"reduced_embedding\"]\n",
      "/var/folders/97/ycz7vyts3nb9l4w_17fp37800000gn/T/ipykernel_5221/3628312714.py:40: MapWithoutReturnDtypeWarning: Calling `map_elements` without specifying `return_dtype` can lead to unpredictable results. Specify `return_dtype` to silence this warning.\n",
      "  embeddings[\"reduced_embedding\"]\n"
     ]
    },
    {
     "data": {
      "text/html": [
       "<div><style>\n",
       ".dataframe > thead > tr,\n",
       ".dataframe > tbody > tr {\n",
       "  text-align: right;\n",
       "  white-space: pre-wrap;\n",
       "}\n",
       "</style>\n",
       "<small>shape: (5, 6)</small><table border=\"1\" class=\"dataframe\"><thead><tr><th>place_id</th><th>review_id</th><th>feature</th><th>embedding</th><th>reduced_embedding</th><th>cosine_similarity</th></tr><tr><td>str</td><td>str</td><td>str</td><td>list[f64]</td><td>list[f64]</td><td>f64</td></tr></thead><tbody><tr><td>&quot;ChIJoTcat9SMGGAR6GGG8zdcZvE&quot;</td><td>&quot;ChdDSUhNMG9nS0VJQ0FnSURqby0tTm…</td><td>&quot;現在は「ゴジラ」バージョンのプロジェクションマッピング&quot;</td><td>[-0.011986, 0.032607, … -0.007424]</td><td>[0.528753, 0.027889, … -0.014807]</td><td>0.376838</td></tr><tr><td>&quot;ChIJoTcat9SMGGAR6GGG8zdcZvE&quot;</td><td>&quot;ChdDSUhNMG9nS0VJQ0FnSURqby0tTm…</td><td>&quot;上映時間は10分間で、30分毎に通常版も上映される&quot;</td><td>[-0.001462, 0.077193, … -0.016847]</td><td>[0.315831, -0.218939, … -0.102579]</td><td>0.372013</td></tr><tr><td>&quot;ChIJoTcat9SMGGAR6GGG8zdcZvE&quot;</td><td>&quot;ChdDSUhNMG9nS0VJQ0FnSUNEb3FlMj…</td><td>&quot;Step 1: ピアノの飛び入り演奏が行われる&quot;</td><td>[0.012912, -0.003128, … -0.019431]</td><td>[0.355002, -0.05761, … -0.028673]</td><td>0.336002</td></tr><tr><td>&quot;ChIJoTcat9SMGGAR6GGG8zdcZvE&quot;</td><td>&quot;ChZDSUhNMG9nS0VJQ0FnSUNUN3ZPOU…</td><td>&quot;11. ゴジラの登場にワクワクする&quot;</td><td>[0.040052, 0.065419, … 0.007181]</td><td>[0.345285, 0.010216, … -0.05019]</td><td>0.299695</td></tr><tr><td>&quot;ChIJoTcat9SMGGAR6GGG8zdcZvE&quot;</td><td>&quot;ChdDSUhNMG9nS0VJQ0FnSURqby0tTm…</td><td>&quot;アニメや映画のキャラクターなども上映される&quot;</td><td>[0.049511, 0.057963, … 0.011408]</td><td>[0.148426, -0.208527, … 0.044004]</td><td>0.259371</td></tr></tbody></table></div>"
      ],
      "text/plain": [
       "shape: (5, 6)\n",
       "┌────────────────┬────────────────┬────────────────┬───────────────┬───────────────┬───────────────┐\n",
       "│ place_id       ┆ review_id      ┆ feature        ┆ embedding     ┆ reduced_embed ┆ cosine_simila │\n",
       "│ ---            ┆ ---            ┆ ---            ┆ ---           ┆ ding          ┆ rity          │\n",
       "│ str            ┆ str            ┆ str            ┆ list[f64]     ┆ ---           ┆ ---           │\n",
       "│                ┆                ┆                ┆               ┆ list[f64]     ┆ f64           │\n",
       "╞════════════════╪════════════════╪════════════════╪═══════════════╪═══════════════╪═══════════════╡\n",
       "│ ChIJoTcat9SMGG ┆ ChdDSUhNMG9nS0 ┆ 現在は「ゴジラ ┆ [-0.011986,   ┆ [0.528753,    ┆ 0.376838      │\n",
       "│ AR6GGG8zdcZvE  ┆ VJQ0FnSURqby0t ┆ 」バージョンの ┆ 0.032607, …   ┆ 0.027889, …   ┆               │\n",
       "│                ┆ Tm…            ┆ プロジェクショ ┆ -0.007…       ┆ -0.0148…      ┆               │\n",
       "│                ┆                ┆ ンマッピング   ┆               ┆               ┆               │\n",
       "│ ChIJoTcat9SMGG ┆ ChdDSUhNMG9nS0 ┆ 上映時間は10分 ┆ [-0.001462,   ┆ [0.315831,    ┆ 0.372013      │\n",
       "│ AR6GGG8zdcZvE  ┆ VJQ0FnSURqby0t ┆ 間で、30分毎に ┆ 0.077193, …   ┆ -0.218939, …  ┆               │\n",
       "│                ┆ Tm…            ┆ 通常版も上映さ ┆ -0.016…       ┆ -0.102…       ┆               │\n",
       "│                ┆                ┆ れる           ┆               ┆               ┆               │\n",
       "│ ChIJoTcat9SMGG ┆ ChdDSUhNMG9nS0 ┆ Step 1: ピアノ ┆ [0.012912,    ┆ [0.355002,    ┆ 0.336002      │\n",
       "│ AR6GGG8zdcZvE  ┆ VJQ0FnSUNEb3Fl ┆ の飛び入り演奏 ┆ -0.003128, …  ┆ -0.05761, …   ┆               │\n",
       "│                ┆ Mj…            ┆ が行われる     ┆ -0.019…       ┆ -0.0286…      ┆               │\n",
       "│ ChIJoTcat9SMGG ┆ ChZDSUhNMG9nS0 ┆ 11. ゴジラの登 ┆ [0.040052,    ┆ [0.345285,    ┆ 0.299695      │\n",
       "│ AR6GGG8zdcZvE  ┆ VJQ0FnSUNUN3ZP ┆ 場にワクワクす ┆ 0.065419, …   ┆ 0.010216, …   ┆               │\n",
       "│                ┆ OU…            ┆ る             ┆ 0.00718…      ┆ -0.0501…      ┆               │\n",
       "│ ChIJoTcat9SMGG ┆ ChdDSUhNMG9nS0 ┆ アニメや映画の ┆ [0.049511,    ┆ [0.148426,    ┆ 0.259371      │\n",
       "│ AR6GGG8zdcZvE  ┆ VJQ0FnSURqby0t ┆ キャラクターな ┆ 0.057963, …   ┆ -0.208527, …  ┆               │\n",
       "│                ┆ Tm…            ┆ ども上映される ┆ 0.01140…      ┆ 0.0440…       ┆               │\n",
       "└────────────────┴────────────────┴────────────────┴───────────────┴───────────────┴───────────────┘"
      ]
     },
     "execution_count": 11,
     "metadata": {},
     "output_type": "execute_result"
    }
   ],
   "source": [
    "# Example usage\n",
    "text = \"子供が楽しめる場所。できれば歴史に触れられると嬉しい。\"\n",
    "sorted_embeddings = get_similarity(text, embeddings, pca)\n",
    "sorted_embeddings.head(5)\n"
   ]
  },
  {
   "cell_type": "code",
   "execution_count": 14,
   "metadata": {},
   "outputs": [],
   "source": [
    "import os\n",
    "import json\n",
    "import numpy as np\n",
    "import polars as pl\n",
    "from sklearn.decomposition import FastICA\n",
    "from sklearn.metrics.pairwise import cosine_similarity\n",
    "from dotenv import load_dotenv\n",
    "from openai import OpenAI\n",
    "\n",
    "# Load the .env file\n",
    "load_dotenv(\"../.env\")\n",
    "client = OpenAI()\n",
    "\n",
    "json_file_path = \"../data/inputs/embeddings.json\"\n",
    "embeddings = pl.read_json(json_file_path)\n",
    "\n",
    "# Extract embeddings to a numpy array for ICA\n",
    "embedding_matrix = np.array(embeddings[\"embedding\"].to_list())\n",
    "\n",
    "# Perform ICA to reduce dimensionality\n",
    "ica = FastICA(n_components=50)  # Adjust the number of components as needed\n",
    "reduced_embeddings = ica.fit_transform(embedding_matrix)\n",
    "\n",
    "# Replace the original embeddings in the DataFrame with the reduced embeddings\n",
    "embeddings = embeddings.with_columns(pl.Series(\"reduced_embedding\", reduced_embeddings.tolist()))\n"
   ]
  },
  {
   "cell_type": "code",
   "execution_count": 16,
   "metadata": {},
   "outputs": [
    {
     "name": "stderr",
     "output_type": "stream",
     "text": [
      "/var/folders/97/ycz7vyts3nb9l4w_17fp37800000gn/T/ipykernel_5221/3628312714.py:40: DeprecationWarning: `apply` is deprecated. It has been renamed to `map_elements`.\n",
      "  embeddings[\"reduced_embedding\"]\n",
      "/var/folders/97/ycz7vyts3nb9l4w_17fp37800000gn/T/ipykernel_5221/3628312714.py:40: MapWithoutReturnDtypeWarning: Calling `map_elements` without specifying `return_dtype` can lead to unpredictable results. Specify `return_dtype` to silence this warning.\n",
      "  embeddings[\"reduced_embedding\"]\n"
     ]
    },
    {
     "data": {
      "text/html": [
       "<div><style>\n",
       ".dataframe > thead > tr,\n",
       ".dataframe > tbody > tr {\n",
       "  text-align: right;\n",
       "  white-space: pre-wrap;\n",
       "}\n",
       "</style>\n",
       "<small>shape: (5, 6)</small><table border=\"1\" class=\"dataframe\"><thead><tr><th>place_id</th><th>review_id</th><th>feature</th><th>embedding</th><th>reduced_embedding</th><th>cosine_similarity</th></tr><tr><td>str</td><td>str</td><td>str</td><td>list[f64]</td><td>list[f64]</td><td>f64</td></tr></thead><tbody><tr><td>&quot;ChIJoTcat9SMGGAR6GGG8zdcZvE&quot;</td><td>&quot;ChZDSUhNMG9nS0VJQ0FnSUM5Ni1xUE…</td><td>&quot;観光案内所が整備されており、次のプランを立てやすい&quot;</td><td>[-0.010807, 0.004569, … -0.005498]</td><td>[0.33665, -0.053008, … 0.019674]</td><td>0.297206</td></tr><tr><td>&quot;ChIJoTcat9SMGGAR6GGG8zdcZvE&quot;</td><td>&quot;ChZDSUhNMG9nS0VJQ0FnSUNUN3ZPOU…</td><td>&quot;6. 都の職員が東京都島の焼酎やクラフトビールを販売している&quot;</td><td>[0.001604, 0.030078, … 0.027133]</td><td>[0.079421, -0.362306, … -0.183997]</td><td>0.285655</td></tr><tr><td>&quot;ChIJoTcat9SMGGAR6GGG8zdcZvE&quot;</td><td>&quot;ChdDSUhNMG9nS0VJQ0FnSURqby0tTm…</td><td>&quot;上映時間は10分間で、30分毎に通常版も上映される&quot;</td><td>[-0.001462, 0.077193, … -0.016847]</td><td>[7.866113, 0.353614, … -0.188921]</td><td>0.281957</td></tr><tr><td>&quot;ChIJoTcat9SMGGAR6GGG8zdcZvE&quot;</td><td>&quot;ChdDSUhNMG9nS0VJQ0FnSURqby0tTm…</td><td>&quot;都心の喧騒を忘れさせてくれる&quot;</td><td>[0.061906, 0.012897, … -0.001959]</td><td>[0.121442, -0.200072, … -0.191471]</td><td>0.268356</td></tr><tr><td>&quot;ChIJoTcat9SMGGAR6GGG8zdcZvE&quot;</td><td>&quot;ChdDSUhNMG9nS0VJQ0FnSURqby0tTm…</td><td>&quot;音楽と映像のシンクロが見どころ&quot;</td><td>[0.000199, 0.026349, … -0.015605]</td><td>[0.152197, -1.924673, … -0.096128]</td><td>0.206174</td></tr></tbody></table></div>"
      ],
      "text/plain": [
       "shape: (5, 6)\n",
       "┌────────────────┬────────────────┬────────────────┬───────────────┬───────────────┬───────────────┐\n",
       "│ place_id       ┆ review_id      ┆ feature        ┆ embedding     ┆ reduced_embed ┆ cosine_simila │\n",
       "│ ---            ┆ ---            ┆ ---            ┆ ---           ┆ ding          ┆ rity          │\n",
       "│ str            ┆ str            ┆ str            ┆ list[f64]     ┆ ---           ┆ ---           │\n",
       "│                ┆                ┆                ┆               ┆ list[f64]     ┆ f64           │\n",
       "╞════════════════╪════════════════╪════════════════╪═══════════════╪═══════════════╪═══════════════╡\n",
       "│ ChIJoTcat9SMGG ┆ ChZDSUhNMG9nS0 ┆ 観光案内所が整 ┆ [-0.010807,   ┆ [0.33665,     ┆ 0.297206      │\n",
       "│ AR6GGG8zdcZvE  ┆ VJQ0FnSUM5Ni1x ┆ 備されており、 ┆ 0.004569, …   ┆ -0.053008, …  ┆               │\n",
       "│                ┆ UE…            ┆ 次のプランを立 ┆ -0.005…       ┆ 0.01967…      ┆               │\n",
       "│                ┆                ┆ てやすい       ┆               ┆               ┆               │\n",
       "│ ChIJoTcat9SMGG ┆ ChZDSUhNMG9nS0 ┆ 6. 都の職員が  ┆ [0.001604,    ┆ [0.079421,    ┆ 0.285655      │\n",
       "│ AR6GGG8zdcZvE  ┆ VJQ0FnSUNUN3ZP ┆ 東京都島の焼酎 ┆ 0.030078, …   ┆ -0.362306, …  ┆               │\n",
       "│                ┆ OU…            ┆ やクラフトビー ┆ 0.02713…      ┆ -0.183…       ┆               │\n",
       "│                ┆                ┆ ルを販売してい ┆               ┆               ┆               │\n",
       "│                ┆                ┆ る             ┆               ┆               ┆               │\n",
       "│ ChIJoTcat9SMGG ┆ ChdDSUhNMG9nS0 ┆ 上映時間は10分 ┆ [-0.001462,   ┆ [7.866113,    ┆ 0.281957      │\n",
       "│ AR6GGG8zdcZvE  ┆ VJQ0FnSURqby0t ┆ 間で、30分毎に ┆ 0.077193, …   ┆ 0.353614, …   ┆               │\n",
       "│                ┆ Tm…            ┆ 通常版も上映さ ┆ -0.016…       ┆ -0.1889…      ┆               │\n",
       "│                ┆                ┆ れる           ┆               ┆               ┆               │\n",
       "│ ChIJoTcat9SMGG ┆ ChdDSUhNMG9nS0 ┆ 都心の喧騒を忘 ┆ [0.061906,    ┆ [0.121442,    ┆ 0.268356      │\n",
       "│ AR6GGG8zdcZvE  ┆ VJQ0FnSURqby0t ┆ れさせてくれる ┆ 0.012897, …   ┆ -0.200072, …  ┆               │\n",
       "│                ┆ Tm…            ┆                ┆ -0.0019…      ┆ -0.191…       ┆               │\n",
       "│ ChIJoTcat9SMGG ┆ ChdDSUhNMG9nS0 ┆ 音楽と映像のシ ┆ [0.000199,    ┆ [0.152197,    ┆ 0.206174      │\n",
       "│ AR6GGG8zdcZvE  ┆ VJQ0FnSURqby0t ┆ ンクロが見どこ ┆ 0.026349, …   ┆ -1.924673, …  ┆               │\n",
       "│                ┆ Tm…            ┆ ろ             ┆ -0.0156…      ┆ -0.096…       ┆               │\n",
       "└────────────────┴────────────────┴────────────────┴───────────────┴───────────────┴───────────────┘"
      ]
     },
     "execution_count": 16,
     "metadata": {},
     "output_type": "execute_result"
    }
   ],
   "source": [
    "# Example usage\n",
    "text = \"外国人におすすめ\"\n",
    "sorted_embeddings = get_similarity(text, embeddings, ica)\n",
    "sorted_embeddings.head(5)"
   ]
  },
  {
   "cell_type": "code",
   "execution_count": 17,
   "metadata": {},
   "outputs": [
    {
     "name": "stderr",
     "output_type": "stream",
     "text": [
      "/var/folders/97/ycz7vyts3nb9l4w_17fp37800000gn/T/ipykernel_5221/3628312714.py:40: DeprecationWarning: `apply` is deprecated. It has been renamed to `map_elements`.\n",
      "  embeddings[\"reduced_embedding\"]\n",
      "/var/folders/97/ycz7vyts3nb9l4w_17fp37800000gn/T/ipykernel_5221/3628312714.py:40: MapWithoutReturnDtypeWarning: Calling `map_elements` without specifying `return_dtype` can lead to unpredictable results. Specify `return_dtype` to silence this warning.\n",
      "  embeddings[\"reduced_embedding\"]\n"
     ]
    },
    {
     "data": {
      "text/html": [
       "<div><style>\n",
       ".dataframe > thead > tr,\n",
       ".dataframe > tbody > tr {\n",
       "  text-align: right;\n",
       "  white-space: pre-wrap;\n",
       "}\n",
       "</style>\n",
       "<small>shape: (5, 6)</small><table border=\"1\" class=\"dataframe\"><thead><tr><th>place_id</th><th>review_id</th><th>feature</th><th>embedding</th><th>reduced_embedding</th><th>cosine_similarity</th></tr><tr><td>str</td><td>str</td><td>str</td><td>list[f64]</td><td>list[f64]</td><td>f64</td></tr></thead><tbody><tr><td>&quot;ChIJoTcat9SMGGAR6GGG8zdcZvE&quot;</td><td>&quot;ChdDSUhNMG9nS0VJQ0FnSURqby0tTm…</td><td>&quot;都庁周辺の公園も散策に最適&quot;</td><td>[0.034885, -0.004204, … 0.003314]</td><td>[1.126503, -1.038356, … 0.13657]</td><td>0.336068</td></tr><tr><td>&quot;ChIJoTcat9SMGGAR6GGG8zdcZvE&quot;</td><td>&quot;ChdDSUhNMG9nS0VJQ0FnSURqby0tTm…</td><td>&quot;上映時間は10分間で、30分毎に通常版も上映される&quot;</td><td>[-0.001462, 0.077193, … -0.016847]</td><td>[7.866113, 0.353614, … -0.188921]</td><td>0.334017</td></tr><tr><td>&quot;ChIJoTcat9SMGGAR6GGG8zdcZvE&quot;</td><td>&quot;ChdDSUhNMG9nS0VJQ0FnSURqby0tTm…</td><td>&quot;見どころがいっぱい詰まった観光スポット&quot;</td><td>[0.035952, -0.001157, … 0.012021]</td><td>[-0.293518, -7.251588, … -0.102457]</td><td>0.278763</td></tr><tr><td>&quot;ChIJoTcat9SMGGAR6GGG8zdcZvE&quot;</td><td>&quot;ChdDSUhNMG9nS0VJQ0FnSUNEb3FlMj…</td><td>&quot;Step 5: 雨の日でも楽しめる施設がある&quot;</td><td>[-0.021625, 0.038027, … 0.014852]</td><td>[0.173428, 0.252447, … -0.138414]</td><td>0.262288</td></tr><tr><td>&quot;ChIJoTcat9SMGGAR6GGG8zdcZvE&quot;</td><td>&quot;ChdDSUhNMG9nS0VJQ0FnSURqby0tTm…</td><td>&quot;土日祝日の夕方にはプロジェクションマッピングが開催される&quot;</td><td>[0.024845, 0.017236, … -0.013928]</td><td>[-0.406029, -0.014703, … -0.118068]</td><td>0.249338</td></tr></tbody></table></div>"
      ],
      "text/plain": [
       "shape: (5, 6)\n",
       "┌────────────────┬────────────────┬────────────────┬───────────────┬───────────────┬───────────────┐\n",
       "│ place_id       ┆ review_id      ┆ feature        ┆ embedding     ┆ reduced_embed ┆ cosine_simila │\n",
       "│ ---            ┆ ---            ┆ ---            ┆ ---           ┆ ding          ┆ rity          │\n",
       "│ str            ┆ str            ┆ str            ┆ list[f64]     ┆ ---           ┆ ---           │\n",
       "│                ┆                ┆                ┆               ┆ list[f64]     ┆ f64           │\n",
       "╞════════════════╪════════════════╪════════════════╪═══════════════╪═══════════════╪═══════════════╡\n",
       "│ ChIJoTcat9SMGG ┆ ChdDSUhNMG9nS0 ┆ 都庁周辺の公園 ┆ [0.034885,    ┆ [1.126503,    ┆ 0.336068      │\n",
       "│ AR6GGG8zdcZvE  ┆ VJQ0FnSURqby0t ┆ も散策に最適   ┆ -0.004204, …  ┆ -1.038356, …  ┆               │\n",
       "│                ┆ Tm…            ┆                ┆ 0.0033…       ┆ 0.1365…       ┆               │\n",
       "│ ChIJoTcat9SMGG ┆ ChdDSUhNMG9nS0 ┆ 上映時間は10分 ┆ [-0.001462,   ┆ [7.866113,    ┆ 0.334017      │\n",
       "│ AR6GGG8zdcZvE  ┆ VJQ0FnSURqby0t ┆ 間で、30分毎に ┆ 0.077193, …   ┆ 0.353614, …   ┆               │\n",
       "│                ┆ Tm…            ┆ 通常版も上映さ ┆ -0.016…       ┆ -0.1889…      ┆               │\n",
       "│                ┆                ┆ れる           ┆               ┆               ┆               │\n",
       "│ ChIJoTcat9SMGG ┆ ChdDSUhNMG9nS0 ┆ 見どころがいっ ┆ [0.035952,    ┆ [-0.293518,   ┆ 0.278763      │\n",
       "│ AR6GGG8zdcZvE  ┆ VJQ0FnSURqby0t ┆ ぱい詰まった観 ┆ -0.001157, …  ┆ -7.251588, …  ┆               │\n",
       "│                ┆ Tm…            ┆ 光スポット     ┆ 0.0120…       ┆ -0.10…        ┆               │\n",
       "│ ChIJoTcat9SMGG ┆ ChdDSUhNMG9nS0 ┆ Step 5: 雨の日 ┆ [-0.021625,   ┆ [0.173428,    ┆ 0.262288      │\n",
       "│ AR6GGG8zdcZvE  ┆ VJQ0FnSUNEb3Fl ┆ でも楽しめる施 ┆ 0.038027, …   ┆ 0.252447, …   ┆               │\n",
       "│                ┆ Mj…            ┆ 設がある       ┆ 0.0148…       ┆ -0.1384…      ┆               │\n",
       "│ ChIJoTcat9SMGG ┆ ChdDSUhNMG9nS0 ┆ 土日祝日の夕方 ┆ [0.024845,    ┆ [-0.406029,   ┆ 0.249338      │\n",
       "│ AR6GGG8zdcZvE  ┆ VJQ0FnSURqby0t ┆ にはプロジェク ┆ 0.017236, …   ┆ -0.014703, …  ┆               │\n",
       "│                ┆ Tm…            ┆ ションマッピン ┆ -0.0139…      ┆ -0.11…        ┆               │\n",
       "│                ┆                ┆ グが開催される ┆               ┆               ┆               │\n",
       "└────────────────┴────────────────┴────────────────┴───────────────┴───────────────┴───────────────┘"
      ]
     },
     "execution_count": 17,
     "metadata": {},
     "output_type": "execute_result"
    }
   ],
   "source": [
    "# Example usage\n",
    "text = \"子供が楽しめる場所。できれば歴史に触れられると嬉しい。\"\n",
    "sorted_embeddings = get_similarity(text, embeddings, pca)\n",
    "sorted_embeddings.head(5)\n"
   ]
  },
  {
   "cell_type": "code",
   "execution_count": null,
   "metadata": {},
   "outputs": [],
   "source": []
  }
 ],
 "metadata": {
  "kernelspec": {
   "display_name": "tf",
   "language": "python",
   "name": "python3"
  },
  "language_info": {
   "codemirror_mode": {
    "name": "ipython",
    "version": 3
   },
   "file_extension": ".py",
   "mimetype": "text/x-python",
   "name": "python",
   "nbconvert_exporter": "python",
   "pygments_lexer": "ipython3",
   "version": "3.9.15"
  }
 },
 "nbformat": 4,
 "nbformat_minor": 2
}
