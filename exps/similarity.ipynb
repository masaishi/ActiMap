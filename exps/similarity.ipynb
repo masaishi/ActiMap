{
 "cells": [
  {
   "cell_type": "code",
   "execution_count": 28,
   "metadata": {},
   "outputs": [],
   "source": [
    "import os\n",
    "import time\n",
    "import json\n",
    "from sklearn.metrics.pairwise import cosine_similarity\n",
    "import polars as pl\n",
    "from tqdm import tqdm\n",
    "from dotenv import load_dotenv\n",
    "from openai import OpenAI\n",
    "\n",
    "# Load the .env file\n",
    "load_dotenv(\"../.env\")\n",
    "client = OpenAI()\n",
    "\n",
    "json_file_path = \"../data/inputs/embeddings.json\"\n",
    "embeddings = pl.read_json(json_file_path)\n",
    "\n",
    "def get_embedding(text):\n",
    "\tembedding = (\n",
    "\t\tclient.embeddings.create(input=text, model=\"text-embedding-3-small\")\n",
    "\t\t.data[0]\n",
    "\t\t.embedding\n",
    "\t)\n",
    "\treturn embedding\n",
    "\n",
    "def get_similarity(search_embedding, embeddings):\n",
    "\tembeddings = embeddings.with_columns(\n",
    "\t\tembeddings[\"embedding\"]\n",
    "\t\t.apply(lambda e: cosine_similarity([e], [search_embedding])[0][0])\n",
    "\t\t.alias(\"cosine_similarity\")\n",
    "\t)\n",
    "\tembeddings = embeddings.sort(\"cosine_similarity\", descending=True)\n",
    "\treturn embeddings\n",
    "\n",
    "# Function to measure execution time\n",
    "def measure_execution_time(func, *args, iterations=1000):\n",
    "    start_time = time.time()\n",
    "    sorted_embeddings = None\n",
    "    for _ in range(iterations):\n",
    "        sorted_embeddings = func(*args)\n",
    "    end_time = time.time()\n",
    "    mean_time = (end_time - start_time) / iterations\n",
    "    print(f\"Execution time: {mean_time:.5f} seconds\")\n",
    "    return sorted_embeddings"
   ]
  },
  {
   "cell_type": "code",
   "execution_count": 31,
   "metadata": {},
   "outputs": [
    {
     "name": "stderr",
     "output_type": "stream",
     "text": [
      "/var/folders/97/ycz7vyts3nb9l4w_17fp37800000gn/T/ipykernel_36593/2780532121.py:27: DeprecationWarning: `apply` is deprecated. It has been renamed to `map_elements`.\n",
      "  embeddings[\"embedding\"]\n",
      "/var/folders/97/ycz7vyts3nb9l4w_17fp37800000gn/T/ipykernel_36593/2780532121.py:27: MapWithoutReturnDtypeWarning: Calling `map_elements` without specifying `return_dtype` can lead to unpredictable results. Specify `return_dtype` to silence this warning.\n",
      "  embeddings[\"embedding\"]\n",
      "/var/folders/97/ycz7vyts3nb9l4w_17fp37800000gn/T/ipykernel_36593/2780532121.py:27: DeprecationWarning: `apply` is deprecated. It has been renamed to `map_elements`.\n",
      "  embeddings[\"embedding\"]\n",
      "/var/folders/97/ycz7vyts3nb9l4w_17fp37800000gn/T/ipykernel_36593/2780532121.py:27: MapWithoutReturnDtypeWarning: Calling `map_elements` without specifying `return_dtype` can lead to unpredictable results. Specify `return_dtype` to silence this warning.\n",
      "  embeddings[\"embedding\"]\n",
      "/var/folders/97/ycz7vyts3nb9l4w_17fp37800000gn/T/ipykernel_36593/2780532121.py:27: DeprecationWarning: `apply` is deprecated. It has been renamed to `map_elements`.\n",
      "  embeddings[\"embedding\"]\n",
      "/var/folders/97/ycz7vyts3nb9l4w_17fp37800000gn/T/ipykernel_36593/2780532121.py:27: MapWithoutReturnDtypeWarning: Calling `map_elements` without specifying `return_dtype` can lead to unpredictable results. Specify `return_dtype` to silence this warning.\n",
      "  embeddings[\"embedding\"]\n",
      "/var/folders/97/ycz7vyts3nb9l4w_17fp37800000gn/T/ipykernel_36593/2780532121.py:27: DeprecationWarning: `apply` is deprecated. It has been renamed to `map_elements`.\n",
      "  embeddings[\"embedding\"]\n",
      "/var/folders/97/ycz7vyts3nb9l4w_17fp37800000gn/T/ipykernel_36593/2780532121.py:27: MapWithoutReturnDtypeWarning: Calling `map_elements` without specifying `return_dtype` can lead to unpredictable results. Specify `return_dtype` to silence this warning.\n",
      "  embeddings[\"embedding\"]\n",
      "/var/folders/97/ycz7vyts3nb9l4w_17fp37800000gn/T/ipykernel_36593/2780532121.py:27: DeprecationWarning: `apply` is deprecated. It has been renamed to `map_elements`.\n",
      "  embeddings[\"embedding\"]\n",
      "/var/folders/97/ycz7vyts3nb9l4w_17fp37800000gn/T/ipykernel_36593/2780532121.py:27: MapWithoutReturnDtypeWarning: Calling `map_elements` without specifying `return_dtype` can lead to unpredictable results. Specify `return_dtype` to silence this warning.\n",
      "  embeddings[\"embedding\"]\n",
      "/var/folders/97/ycz7vyts3nb9l4w_17fp37800000gn/T/ipykernel_36593/2780532121.py:27: DeprecationWarning: `apply` is deprecated. It has been renamed to `map_elements`.\n",
      "  embeddings[\"embedding\"]\n",
      "/var/folders/97/ycz7vyts3nb9l4w_17fp37800000gn/T/ipykernel_36593/2780532121.py:27: MapWithoutReturnDtypeWarning: Calling `map_elements` without specifying `return_dtype` can lead to unpredictable results. Specify `return_dtype` to silence this warning.\n",
      "  embeddings[\"embedding\"]\n",
      "/var/folders/97/ycz7vyts3nb9l4w_17fp37800000gn/T/ipykernel_36593/2780532121.py:27: DeprecationWarning: `apply` is deprecated. It has been renamed to `map_elements`.\n",
      "  embeddings[\"embedding\"]\n",
      "/var/folders/97/ycz7vyts3nb9l4w_17fp37800000gn/T/ipykernel_36593/2780532121.py:27: MapWithoutReturnDtypeWarning: Calling `map_elements` without specifying `return_dtype` can lead to unpredictable results. Specify `return_dtype` to silence this warning.\n",
      "  embeddings[\"embedding\"]\n",
      "/var/folders/97/ycz7vyts3nb9l4w_17fp37800000gn/T/ipykernel_36593/2780532121.py:27: DeprecationWarning: `apply` is deprecated. It has been renamed to `map_elements`.\n",
      "  embeddings[\"embedding\"]\n",
      "/var/folders/97/ycz7vyts3nb9l4w_17fp37800000gn/T/ipykernel_36593/2780532121.py:27: MapWithoutReturnDtypeWarning: Calling `map_elements` without specifying `return_dtype` can lead to unpredictable results. Specify `return_dtype` to silence this warning.\n",
      "  embeddings[\"embedding\"]\n",
      "/var/folders/97/ycz7vyts3nb9l4w_17fp37800000gn/T/ipykernel_36593/2780532121.py:27: DeprecationWarning: `apply` is deprecated. It has been renamed to `map_elements`.\n",
      "  embeddings[\"embedding\"]\n",
      "/var/folders/97/ycz7vyts3nb9l4w_17fp37800000gn/T/ipykernel_36593/2780532121.py:27: MapWithoutReturnDtypeWarning: Calling `map_elements` without specifying `return_dtype` can lead to unpredictable results. Specify `return_dtype` to silence this warning.\n",
      "  embeddings[\"embedding\"]\n",
      "/var/folders/97/ycz7vyts3nb9l4w_17fp37800000gn/T/ipykernel_36593/2780532121.py:27: DeprecationWarning: `apply` is deprecated. It has been renamed to `map_elements`.\n",
      "  embeddings[\"embedding\"]\n",
      "/var/folders/97/ycz7vyts3nb9l4w_17fp37800000gn/T/ipykernel_36593/2780532121.py:27: MapWithoutReturnDtypeWarning: Calling `map_elements` without specifying `return_dtype` can lead to unpredictable results. Specify `return_dtype` to silence this warning.\n",
      "  embeddings[\"embedding\"]\n"
     ]
    },
    {
     "name": "stdout",
     "output_type": "stream",
     "text": [
      "Execution time: 12.87 seconds\n"
     ]
    },
    {
     "data": {
      "text/html": [
       "<div><style>\n",
       ".dataframe > thead > tr,\n",
       ".dataframe > tbody > tr {\n",
       "  text-align: right;\n",
       "  white-space: pre-wrap;\n",
       "}\n",
       "</style>\n",
       "<small>shape: (5, 6)</small><table border=\"1\" class=\"dataframe\"><thead><tr><th>place_id</th><th>review_id</th><th>feature</th><th>key</th><th>embedding</th><th>cosine_similarity</th></tr><tr><td>str</td><td>str</td><td>str</td><td>i64</td><td>list[f64]</td><td>f64</td></tr></thead><tbody><tr><td>&quot;ChIJK9584NuMGGARVKfZjpYoQDs&quot;</td><td>&quot;ChdDSUhNMG9nS0VJQ0FnSUR6c3N2aD…</td><td>&quot;外国人にも人気の観光スポット&quot;</td><td>693</td><td>[0.03074, 0.017347, … 0.000512]</td><td>0.680851</td></tr><tr><td>&quot;ChIJCewJkL2LGGAR3Qmk0vCTGkg&quot;</td><td>&quot;ChdDSUhNMG9nS0VJQ0FnSURUd1ppQ2…</td><td>&quot;外国人にも人気の観光スポット&quot;</td><td>236</td><td>[0.030738, 0.017356, … 0.000534]</td><td>0.680817</td></tr><tr><td>&quot;ChIJM9xJEHeLGGARAshMWUgC_ls&quot;</td><td>&quot;ChdDSUhNMG9nS0VJQ0FnSURqNjdqLX…</td><td>&quot;外国人にも優しい環境&quot;</td><td>518</td><td>[0.019292, -0.009432, … 0.002982]</td><td>0.673975</td></tr><tr><td>&quot;ChIJM9xJEHeLGGARAshMWUgC_ls&quot;</td><td>&quot;ChdDSUhNMG9nS0VJQ0FnSURqNjdqLX…</td><td>&quot;外国人観光客にも人気&quot;</td><td>509</td><td>[0.050723, 0.005674, … -0.007751]</td><td>0.669858</td></tr><tr><td>&quot;ChIJP9eKBdeMGGAR0zzBXJNVj5A&quot;</td><td>&quot;ChdDSUhNMG9nS0VJQ0FnSUM5dU9TQ2…</td><td>&quot;外国人との交流が楽しめる&quot;</td><td>104</td><td>[-0.002273, -0.005705, … -0.004685]</td><td>0.645741</td></tr></tbody></table></div>"
      ],
      "text/plain": [
       "shape: (5, 6)\n",
       "┌───────────────────┬───────────────────┬──────────────────┬─────┬──────────────┬──────────────────┐\n",
       "│ place_id          ┆ review_id         ┆ feature          ┆ key ┆ embedding    ┆ cosine_similarit │\n",
       "│ ---               ┆ ---               ┆ ---              ┆ --- ┆ ---          ┆ y                │\n",
       "│ str               ┆ str               ┆ str              ┆ i64 ┆ list[f64]    ┆ ---              │\n",
       "│                   ┆                   ┆                  ┆     ┆              ┆ f64              │\n",
       "╞═══════════════════╪═══════════════════╪══════════════════╪═════╪══════════════╪══════════════════╡\n",
       "│ ChIJK9584NuMGGARV ┆ ChdDSUhNMG9nS0VJQ ┆ 外国人にも人気の ┆ 693 ┆ [0.03074,    ┆ 0.680851         │\n",
       "│ KfZjpYoQDs        ┆ 0FnSUR6c3N2aD…    ┆ 観光スポット     ┆     ┆ 0.017347, …  ┆                  │\n",
       "│                   ┆                   ┆                  ┆     ┆ 0.000512…    ┆                  │\n",
       "│ ChIJCewJkL2LGGAR3 ┆ ChdDSUhNMG9nS0VJQ ┆ 外国人にも人気の ┆ 236 ┆ [0.030738,   ┆ 0.680817         │\n",
       "│ Qmk0vCTGkg        ┆ 0FnSURUd1ppQ2…    ┆ 観光スポット     ┆     ┆ 0.017356, …  ┆                  │\n",
       "│                   ┆                   ┆                  ┆     ┆ 0.00053…     ┆                  │\n",
       "│ ChIJM9xJEHeLGGARA ┆ ChdDSUhNMG9nS0VJQ ┆ 外国人にも優しい ┆ 518 ┆ [0.019292,   ┆ 0.673975         │\n",
       "│ shMWUgC_ls        ┆ 0FnSURqNjdqLX…    ┆ 環境             ┆     ┆ -0.009432, … ┆                  │\n",
       "│                   ┆                   ┆                  ┆     ┆ 0.0029…      ┆                  │\n",
       "│ ChIJM9xJEHeLGGARA ┆ ChdDSUhNMG9nS0VJQ ┆ 外国人観光客にも ┆ 509 ┆ [0.050723,   ┆ 0.669858         │\n",
       "│ shMWUgC_ls        ┆ 0FnSURqNjdqLX…    ┆ 人気             ┆     ┆ 0.005674, …  ┆                  │\n",
       "│                   ┆                   ┆                  ┆     ┆ -0.0077…     ┆                  │\n",
       "│ ChIJP9eKBdeMGGAR0 ┆ ChdDSUhNMG9nS0VJQ ┆ 外国人との交流が ┆ 104 ┆ [-0.002273,  ┆ 0.645741         │\n",
       "│ zzBXJNVj5A        ┆ 0FnSUM5dU9TQ2…    ┆ 楽しめる         ┆     ┆ -0.005705, … ┆                  │\n",
       "│                   ┆                   ┆                  ┆     ┆ -0.00…       ┆                  │\n",
       "└───────────────────┴───────────────────┴──────────────────┴─────┴──────────────┴──────────────────┘"
      ]
     },
     "execution_count": 31,
     "metadata": {},
     "output_type": "execute_result"
    }
   ],
   "source": [
    "search_embedding = get_embedding(\"外国人におすすめ\")\n",
    "sorted_embeddings = measure_execution_time(get_similarity, search_embedding, embeddings, iterations=10)\n",
    "sorted_embeddings.head(5)"
   ]
  },
  {
   "cell_type": "code",
   "execution_count": 33,
   "metadata": {},
   "outputs": [
    {
     "name": "stderr",
     "output_type": "stream",
     "text": [
      "/var/folders/97/ycz7vyts3nb9l4w_17fp37800000gn/T/ipykernel_36593/2780532121.py:27: DeprecationWarning: `apply` is deprecated. It has been renamed to `map_elements`.\n",
      "  embeddings[\"embedding\"]\n",
      "/var/folders/97/ycz7vyts3nb9l4w_17fp37800000gn/T/ipykernel_36593/2780532121.py:27: MapWithoutReturnDtypeWarning: Calling `map_elements` without specifying `return_dtype` can lead to unpredictable results. Specify `return_dtype` to silence this warning.\n",
      "  embeddings[\"embedding\"]\n"
     ]
    },
    {
     "data": {
      "text/html": [
       "<div><style>\n",
       ".dataframe > thead > tr,\n",
       ".dataframe > tbody > tr {\n",
       "  text-align: right;\n",
       "  white-space: pre-wrap;\n",
       "}\n",
       "</style>\n",
       "<small>shape: (5, 6)</small><table border=\"1\" class=\"dataframe\"><thead><tr><th>place_id</th><th>review_id</th><th>feature</th><th>key</th><th>embedding</th><th>cosine_similarity</th></tr><tr><td>str</td><td>str</td><td>str</td><td>i64</td><td>list[f64]</td><td>f64</td></tr></thead><tbody><tr><td>&quot;ChIJAQCTx8uMGGARpNjDI6maHdc&quot;</td><td>&quot;ChZDSUhNMG9nS0VJQ0FnSUNOeHI2M2…</td><td>&quot;子供たちの楽しさが感じられる場所&quot;</td><td>2590</td><td>[0.06447, 0.009691, … 0.002378]</td><td>0.736199</td></tr><tr><td>&quot;ChIJHeBCIOyMGGAR7BktETlUP_w&quot;</td><td>&quot;ChdDSUhNMG9nS0VJQ0FnSUNON3ZDYi…</td><td>&quot;子供と一緒に楽しむことができる場所&quot;</td><td>3887</td><td>[0.051534, -0.014964, … 0.013816]</td><td>0.688365</td></tr><tr><td>&quot;ChIJf4O1UMCMGGARZ6nQzxTLK1E&quot;</td><td>&quot;ChZDSUhNMG9nS0VJQ0FnSUN6bVlPdV…</td><td>&quot;子供たちにとって刺激的な場所である。&quot;</td><td>3646</td><td>[0.05418, -0.00057, … 0.001293]</td><td>0.661715</td></tr><tr><td>&quot;ChIJAQCTx8uMGGARpNjDI6maHdc&quot;</td><td>&quot;ChdDSUhNMG9nS0VJQ0FnSUN6OHNUcn…</td><td>&quot;子供と一緒に楽しめる&quot;</td><td>2615</td><td>[0.057801, -0.011662, … 0.018633]</td><td>0.653211</td></tr><tr><td>&quot;ChIJHeBCIOyMGGAR7BktETlUP_w&quot;</td><td>&quot;ChdDSUhNMG9nS0VJQ0FnSUNENFByU3…</td><td>&quot;子供たちが存分に楽しめる施設&quot;</td><td>3918</td><td>[0.052711, 0.015642, … 0.014437]</td><td>0.648514</td></tr></tbody></table></div>"
      ],
      "text/plain": [
       "shape: (5, 6)\n",
       "┌───────────────────┬──────────────────┬──────────────────┬──────┬──────────────┬──────────────────┐\n",
       "│ place_id          ┆ review_id        ┆ feature          ┆ key  ┆ embedding    ┆ cosine_similarit │\n",
       "│ ---               ┆ ---              ┆ ---              ┆ ---  ┆ ---          ┆ y                │\n",
       "│ str               ┆ str              ┆ str              ┆ i64  ┆ list[f64]    ┆ ---              │\n",
       "│                   ┆                  ┆                  ┆      ┆              ┆ f64              │\n",
       "╞═══════════════════╪══════════════════╪══════════════════╪══════╪══════════════╪══════════════════╡\n",
       "│ ChIJAQCTx8uMGGARp ┆ ChZDSUhNMG9nS0VJ ┆ 子供たちの楽しさ ┆ 2590 ┆ [0.06447,    ┆ 0.736199         │\n",
       "│ NjDI6maHdc        ┆ Q0FnSUNOeHI2M2…  ┆ が感じられる場所 ┆      ┆ 0.009691, …  ┆                  │\n",
       "│                   ┆                  ┆                  ┆      ┆ 0.002378…    ┆                  │\n",
       "│ ChIJHeBCIOyMGGAR7 ┆ ChdDSUhNMG9nS0VJ ┆ 子供と一緒に楽し ┆ 3887 ┆ [0.051534,   ┆ 0.688365         │\n",
       "│ BktETlUP_w        ┆ Q0FnSUNON3ZDYi…  ┆ むことができる場 ┆      ┆ -0.014964, … ┆                  │\n",
       "│                   ┆                  ┆ 所               ┆      ┆ 0.0138…      ┆                  │\n",
       "│ ChIJf4O1UMCMGGARZ ┆ ChZDSUhNMG9nS0VJ ┆ 子供たちにとって ┆ 3646 ┆ [0.05418,    ┆ 0.661715         │\n",
       "│ 6nQzxTLK1E        ┆ Q0FnSUN6bVlPdV…  ┆ 刺激的な場所であ ┆      ┆ -0.00057, …  ┆                  │\n",
       "│                   ┆                  ┆ る。             ┆      ┆ 0.001293…    ┆                  │\n",
       "│ ChIJAQCTx8uMGGARp ┆ ChdDSUhNMG9nS0VJ ┆ 子供と一緒に楽し ┆ 2615 ┆ [0.057801,   ┆ 0.653211         │\n",
       "│ NjDI6maHdc        ┆ Q0FnSUN6OHNUcn…  ┆ める             ┆      ┆ -0.011662, … ┆                  │\n",
       "│                   ┆                  ┆                  ┆      ┆ 0.0186…      ┆                  │\n",
       "│ ChIJHeBCIOyMGGAR7 ┆ ChdDSUhNMG9nS0VJ ┆ 子供たちが存分に ┆ 3918 ┆ [0.052711,   ┆ 0.648514         │\n",
       "│ BktETlUP_w        ┆ Q0FnSUNENFByU3…  ┆ 楽しめる施設     ┆      ┆ 0.015642, …  ┆                  │\n",
       "│                   ┆                  ┆                  ┆      ┆ 0.01443…     ┆                  │\n",
       "└───────────────────┴──────────────────┴──────────────────┴──────┴──────────────┴──────────────────┘"
      ]
     },
     "execution_count": 33,
     "metadata": {},
     "output_type": "execute_result"
    }
   ],
   "source": [
    "search_embedding2 = get_embedding(\"子供が楽しめる場所。できれば歴史に触れられると嬉しい。\")\n",
    "sorted_embeddings = get_similarity(search_embedding2, embeddings)\n",
    "sorted_embeddings.head(5)"
   ]
  },
  {
   "cell_type": "code",
   "execution_count": 17,
   "metadata": {},
   "outputs": [
    {
     "name": "stderr",
     "output_type": "stream",
     "text": [
      "/var/folders/97/ycz7vyts3nb9l4w_17fp37800000gn/T/ipykernel_36593/2038232094.py:27: DeprecationWarning: `apply` is deprecated. It has been renamed to `map_elements`.\n",
      "  embeddings[\"embedding\"]\n",
      "/var/folders/97/ycz7vyts3nb9l4w_17fp37800000gn/T/ipykernel_36593/2038232094.py:27: MapWithoutReturnDtypeWarning: Calling `map_elements` without specifying `return_dtype` can lead to unpredictable results. Specify `return_dtype` to silence this warning.\n",
      "  embeddings[\"embedding\"]\n"
     ]
    },
    {
     "data": {
      "text/html": [
       "<div><style>\n",
       ".dataframe > thead > tr,\n",
       ".dataframe > tbody > tr {\n",
       "  text-align: right;\n",
       "  white-space: pre-wrap;\n",
       "}\n",
       "</style>\n",
       "<small>shape: (5, 6)</small><table border=\"1\" class=\"dataframe\"><thead><tr><th>place_id</th><th>review_id</th><th>feature</th><th>key</th><th>embedding</th><th>cosine_similarity</th></tr><tr><td>str</td><td>str</td><td>str</td><td>i64</td><td>list[f64]</td><td>f64</td></tr></thead><tbody><tr><td>&quot;ChIJzRzI3HSNGGARRwZW6AtJfi0&quot;</td><td>&quot;ChZDSUhNMG9nS0VJQ0FnSUN6cVppSl…</td><td>&quot;場所柄、エキサイティングな体験ができる&quot;</td><td>451</td><td>[0.023017, 0.038835, … 0.009937]</td><td>0.74084</td></tr><tr><td>&quot;ChIJjy2U41iLGGAREMoF6FatXt4&quot;</td><td>&quot;ChZDSUhNMG9nS0VJQ0FnSURVb2ZETF…</td><td>&quot;クリエイティブな空間&quot;</td><td>2315</td><td>[0.002878, 0.032346, … -0.003183]</td><td>0.690786</td></tr><tr><td>&quot;ChIJM9xJEHeLGGARAshMWUgC_ls&quot;</td><td>&quot;ChZDSUhNMG9nS0VJQ0FnSURkLWFyRE…</td><td>&quot;都会の中でラグジュアリーかつ多様な体験ができる場所&quot;</td><td>558</td><td>[0.054874, 0.027104, … -0.008433]</td><td>0.661875</td></tr><tr><td>&quot;ChIJJRmFiCOLGGARyLhUN8vGRXs&quot;</td><td>&quot;ChZDSUhNMG9nS0VJQ0FnSUNMLXN6UE…</td><td>&quot;インタラクティブな展示が多く、楽しい体験ができる&quot;</td><td>2202</td><td>[0.00723, 0.029636, … -0.037694]</td><td>0.65893</td></tr><tr><td>&quot;ChIJD1M2GbCMGGARmUFziof73JM&quot;</td><td>&quot;ChdDSUhNMG9nS0VJQ0FnSURoLVozVG…</td><td>&quot;非日常的な体験ができる場所である&quot;</td><td>2102</td><td>[0.00231, 0.043781, … 0.009976]</td><td>0.650934</td></tr></tbody></table></div>"
      ],
      "text/plain": [
       "shape: (5, 6)\n",
       "┌───────────────────┬───────────────────┬──────────────────┬──────┬─────────────┬──────────────────┐\n",
       "│ place_id          ┆ review_id         ┆ feature          ┆ key  ┆ embedding   ┆ cosine_similarit │\n",
       "│ ---               ┆ ---               ┆ ---              ┆ ---  ┆ ---         ┆ y                │\n",
       "│ str               ┆ str               ┆ str              ┆ i64  ┆ list[f64]   ┆ ---              │\n",
       "│                   ┆                   ┆                  ┆      ┆             ┆ f64              │\n",
       "╞═══════════════════╪═══════════════════╪══════════════════╪══════╪═════════════╪══════════════════╡\n",
       "│ ChIJzRzI3HSNGGARR ┆ ChZDSUhNMG9nS0VJQ ┆ 場所柄、エキサイ ┆ 451  ┆ [0.023017,  ┆ 0.74084          │\n",
       "│ wZW6AtJfi0        ┆ 0FnSUN6cVppSl…    ┆ ティングな体験が ┆      ┆ 0.038835, … ┆                  │\n",
       "│                   ┆                   ┆ できる           ┆      ┆ 0.00993…    ┆                  │\n",
       "│ ChIJjy2U41iLGGARE ┆ ChZDSUhNMG9nS0VJQ ┆ クリエイティブな ┆ 2315 ┆ [0.002878,  ┆ 0.690786         │\n",
       "│ MoF6FatXt4        ┆ 0FnSURVb2ZETF…    ┆ 空間             ┆      ┆ 0.032346, … ┆                  │\n",
       "│                   ┆                   ┆                  ┆      ┆ -0.0031…    ┆                  │\n",
       "│ ChIJM9xJEHeLGGARA ┆ ChZDSUhNMG9nS0VJQ ┆ 都会の中でラグジ ┆ 558  ┆ [0.054874,  ┆ 0.661875         │\n",
       "│ shMWUgC_ls        ┆ 0FnSURkLWFyRE…    ┆ ュアリーかつ多様 ┆      ┆ 0.027104, … ┆                  │\n",
       "│                   ┆                   ┆ な体験ができる場 ┆      ┆ -0.0084…    ┆                  │\n",
       "│                   ┆                   ┆ 所               ┆      ┆             ┆                  │\n",
       "│ ChIJJRmFiCOLGGARy ┆ ChZDSUhNMG9nS0VJQ ┆ インタラクティブ ┆ 2202 ┆ [0.00723,   ┆ 0.65893          │\n",
       "│ LhUN8vGRXs        ┆ 0FnSUNMLXN6UE…    ┆ な展示が多く、楽 ┆      ┆ 0.029636, … ┆                  │\n",
       "│                   ┆                   ┆ しい体験ができる ┆      ┆ -0.03769…   ┆                  │\n",
       "│ ChIJD1M2GbCMGGARm ┆ ChdDSUhNMG9nS0VJQ ┆ 非日常的な体験が ┆ 2102 ┆ [0.00231,   ┆ 0.650934         │\n",
       "│ UFziof73JM        ┆ 0FnSURoLVozVG…    ┆ できる場所である ┆      ┆ 0.043781, … ┆                  │\n",
       "│                   ┆                   ┆                  ┆      ┆ 0.009976…   ┆                  │\n",
       "└───────────────────┴───────────────────┴──────────────────┴──────┴─────────────┴──────────────────┘"
      ]
     },
     "execution_count": 17,
     "metadata": {},
     "output_type": "execute_result"
    }
   ],
   "source": [
    "search_embedding3 = get_embedding(\"クリエイティブな体験ができる場所\")\n",
    "sorted_embeddings = get_similarity(search_embedding3, embeddings)\n",
    "sorted_embeddings.head(5)"
   ]
  },
  {
   "cell_type": "code",
   "execution_count": null,
   "metadata": {},
   "outputs": [],
   "source": []
  },
  {
   "cell_type": "code",
   "execution_count": 34,
   "metadata": {},
   "outputs": [],
   "source": [
    "import os\n",
    "import json\n",
    "import numpy as np\n",
    "import polars as pl\n",
    "from sklearn.decomposition import PCA\n",
    "from sklearn.metrics.pairwise import cosine_similarity\n",
    "from dotenv import load_dotenv\n",
    "from openai import OpenAI\n",
    "\n",
    "# Load the .env file\n",
    "load_dotenv(\"../.env\")\n",
    "client = OpenAI()\n",
    "\n",
    "json_file_path = \"../data/inputs/embeddings.json\"\n",
    "embeddings = pl.read_json(json_file_path)\n",
    "\n",
    "# Extract embeddings to a numpy array for PCA\n",
    "embedding_matrix = np.array(embeddings[\"embedding\"].to_list())\n",
    "\n",
    "# Perform PCA to reduce dimensionality\n",
    "pca = PCA(n_components=200)  # Adjust the number of components as needed\n",
    "reduced_embeddings = pca.fit_transform(embedding_matrix)\n",
    "\n",
    "# Replace the original embeddings in the DataFrame with the reduced embeddings\n",
    "embeddings = embeddings.with_columns(pl.Series(\"reduced_embedding\", reduced_embeddings.tolist()))\n",
    "\n",
    "def get_comp_similarity(search_embedding, embeddings, pca):\n",
    "    # Reduce the dimensionality of the sample embedding\n",
    "    reduced_sample_embedding = pca.transform([search_embedding])[0]\n",
    "\n",
    "    # Compute cosine similarity for each reduced embedding\n",
    "    embeddings = embeddings.with_columns(\n",
    "        embeddings[\"reduced_embedding\"]\n",
    "        .apply(lambda e: cosine_similarity([e], [reduced_sample_embedding])[0][0])\n",
    "        .alias(\"cosine_similarity\")\n",
    "    )\n",
    "\n",
    "    # Sort the DataFrame by the cosine similarity in descending order\n",
    "    sorted_embeddings = embeddings.sort(\"cosine_similarity\", descending=True)\n",
    "    return sorted_embeddings"
   ]
  },
  {
   "cell_type": "code",
   "execution_count": 35,
   "metadata": {},
   "outputs": [
    {
     "data": {
      "text/plain": [
       "(4093, 1536)"
      ]
     },
     "execution_count": 35,
     "metadata": {},
     "output_type": "execute_result"
    }
   ],
   "source": [
    "embedding_matrix.shape"
   ]
  },
  {
   "cell_type": "code",
   "execution_count": 36,
   "metadata": {},
   "outputs": [
    {
     "data": {
      "text/plain": [
       "(4093, 200)"
      ]
     },
     "execution_count": 36,
     "metadata": {},
     "output_type": "execute_result"
    }
   ],
   "source": [
    "reduced_embeddings.shape"
   ]
  },
  {
   "cell_type": "code",
   "execution_count": 37,
   "metadata": {},
   "outputs": [
    {
     "name": "stderr",
     "output_type": "stream",
     "text": [
      "/var/folders/97/ycz7vyts3nb9l4w_17fp37800000gn/T/ipykernel_36593/3426013525.py:33: DeprecationWarning: `apply` is deprecated. It has been renamed to `map_elements`.\n",
      "  embeddings[\"reduced_embedding\"]\n",
      "/var/folders/97/ycz7vyts3nb9l4w_17fp37800000gn/T/ipykernel_36593/3426013525.py:33: MapWithoutReturnDtypeWarning: Calling `map_elements` without specifying `return_dtype` can lead to unpredictable results. Specify `return_dtype` to silence this warning.\n",
      "  embeddings[\"reduced_embedding\"]\n",
      "/var/folders/97/ycz7vyts3nb9l4w_17fp37800000gn/T/ipykernel_36593/3426013525.py:33: DeprecationWarning: `apply` is deprecated. It has been renamed to `map_elements`.\n",
      "  embeddings[\"reduced_embedding\"]\n",
      "/var/folders/97/ycz7vyts3nb9l4w_17fp37800000gn/T/ipykernel_36593/3426013525.py:33: MapWithoutReturnDtypeWarning: Calling `map_elements` without specifying `return_dtype` can lead to unpredictable results. Specify `return_dtype` to silence this warning.\n",
      "  embeddings[\"reduced_embedding\"]\n",
      "/var/folders/97/ycz7vyts3nb9l4w_17fp37800000gn/T/ipykernel_36593/3426013525.py:33: DeprecationWarning: `apply` is deprecated. It has been renamed to `map_elements`.\n",
      "  embeddings[\"reduced_embedding\"]\n",
      "/var/folders/97/ycz7vyts3nb9l4w_17fp37800000gn/T/ipykernel_36593/3426013525.py:33: MapWithoutReturnDtypeWarning: Calling `map_elements` without specifying `return_dtype` can lead to unpredictable results. Specify `return_dtype` to silence this warning.\n",
      "  embeddings[\"reduced_embedding\"]\n",
      "/var/folders/97/ycz7vyts3nb9l4w_17fp37800000gn/T/ipykernel_36593/3426013525.py:33: DeprecationWarning: `apply` is deprecated. It has been renamed to `map_elements`.\n",
      "  embeddings[\"reduced_embedding\"]\n",
      "/var/folders/97/ycz7vyts3nb9l4w_17fp37800000gn/T/ipykernel_36593/3426013525.py:33: MapWithoutReturnDtypeWarning: Calling `map_elements` without specifying `return_dtype` can lead to unpredictable results. Specify `return_dtype` to silence this warning.\n",
      "  embeddings[\"reduced_embedding\"]\n",
      "/var/folders/97/ycz7vyts3nb9l4w_17fp37800000gn/T/ipykernel_36593/3426013525.py:33: DeprecationWarning: `apply` is deprecated. It has been renamed to `map_elements`.\n",
      "  embeddings[\"reduced_embedding\"]\n",
      "/var/folders/97/ycz7vyts3nb9l4w_17fp37800000gn/T/ipykernel_36593/3426013525.py:33: MapWithoutReturnDtypeWarning: Calling `map_elements` without specifying `return_dtype` can lead to unpredictable results. Specify `return_dtype` to silence this warning.\n",
      "  embeddings[\"reduced_embedding\"]\n",
      "/var/folders/97/ycz7vyts3nb9l4w_17fp37800000gn/T/ipykernel_36593/3426013525.py:33: DeprecationWarning: `apply` is deprecated. It has been renamed to `map_elements`.\n",
      "  embeddings[\"reduced_embedding\"]\n",
      "/var/folders/97/ycz7vyts3nb9l4w_17fp37800000gn/T/ipykernel_36593/3426013525.py:33: MapWithoutReturnDtypeWarning: Calling `map_elements` without specifying `return_dtype` can lead to unpredictable results. Specify `return_dtype` to silence this warning.\n",
      "  embeddings[\"reduced_embedding\"]\n",
      "/var/folders/97/ycz7vyts3nb9l4w_17fp37800000gn/T/ipykernel_36593/3426013525.py:33: DeprecationWarning: `apply` is deprecated. It has been renamed to `map_elements`.\n",
      "  embeddings[\"reduced_embedding\"]\n",
      "/var/folders/97/ycz7vyts3nb9l4w_17fp37800000gn/T/ipykernel_36593/3426013525.py:33: MapWithoutReturnDtypeWarning: Calling `map_elements` without specifying `return_dtype` can lead to unpredictable results. Specify `return_dtype` to silence this warning.\n",
      "  embeddings[\"reduced_embedding\"]\n",
      "/var/folders/97/ycz7vyts3nb9l4w_17fp37800000gn/T/ipykernel_36593/3426013525.py:33: DeprecationWarning: `apply` is deprecated. It has been renamed to `map_elements`.\n",
      "  embeddings[\"reduced_embedding\"]\n",
      "/var/folders/97/ycz7vyts3nb9l4w_17fp37800000gn/T/ipykernel_36593/3426013525.py:33: MapWithoutReturnDtypeWarning: Calling `map_elements` without specifying `return_dtype` can lead to unpredictable results. Specify `return_dtype` to silence this warning.\n",
      "  embeddings[\"reduced_embedding\"]\n",
      "/var/folders/97/ycz7vyts3nb9l4w_17fp37800000gn/T/ipykernel_36593/3426013525.py:33: DeprecationWarning: `apply` is deprecated. It has been renamed to `map_elements`.\n",
      "  embeddings[\"reduced_embedding\"]\n",
      "/var/folders/97/ycz7vyts3nb9l4w_17fp37800000gn/T/ipykernel_36593/3426013525.py:33: MapWithoutReturnDtypeWarning: Calling `map_elements` without specifying `return_dtype` can lead to unpredictable results. Specify `return_dtype` to silence this warning.\n",
      "  embeddings[\"reduced_embedding\"]\n",
      "/var/folders/97/ycz7vyts3nb9l4w_17fp37800000gn/T/ipykernel_36593/3426013525.py:33: DeprecationWarning: `apply` is deprecated. It has been renamed to `map_elements`.\n",
      "  embeddings[\"reduced_embedding\"]\n",
      "/var/folders/97/ycz7vyts3nb9l4w_17fp37800000gn/T/ipykernel_36593/3426013525.py:33: MapWithoutReturnDtypeWarning: Calling `map_elements` without specifying `return_dtype` can lead to unpredictable results. Specify `return_dtype` to silence this warning.\n",
      "  embeddings[\"reduced_embedding\"]\n"
     ]
    },
    {
     "name": "stdout",
     "output_type": "stream",
     "text": [
      "Execution time: 12.65 seconds\n"
     ]
    },
    {
     "data": {
      "text/html": [
       "<div><style>\n",
       ".dataframe > thead > tr,\n",
       ".dataframe > tbody > tr {\n",
       "  text-align: right;\n",
       "  white-space: pre-wrap;\n",
       "}\n",
       "</style>\n",
       "<small>shape: (5, 7)</small><table border=\"1\" class=\"dataframe\"><thead><tr><th>place_id</th><th>review_id</th><th>feature</th><th>key</th><th>embedding</th><th>reduced_embedding</th><th>cosine_similarity</th></tr><tr><td>str</td><td>str</td><td>str</td><td>i64</td><td>list[f64]</td><td>list[f64]</td><td>f64</td></tr></thead><tbody><tr><td>&quot;ChIJM9xJEHeLGGARAshMWUgC_ls&quot;</td><td>&quot;ChdDSUhNMG9nS0VJQ0FnSURqNjdqLX…</td><td>&quot;外国人観光客にも人気&quot;</td><td>509</td><td>[0.050723, 0.005674, … -0.007751]</td><td>[-0.169436, 0.392744, … 0.019206]</td><td>0.625686</td></tr><tr><td>&quot;ChIJK9584NuMGGARVKfZjpYoQDs&quot;</td><td>&quot;ChdDSUhNMG9nS0VJQ0FnSUR6c3N2aD…</td><td>&quot;外国人にも人気の観光スポット&quot;</td><td>693</td><td>[0.03074, 0.017347, … 0.000512]</td><td>[-0.179647, 0.439145, … 0.030647]</td><td>0.622217</td></tr><tr><td>&quot;ChIJCewJkL2LGGAR3Qmk0vCTGkg&quot;</td><td>&quot;ChdDSUhNMG9nS0VJQ0FnSURUd1ppQ2…</td><td>&quot;外国人にも人気の観光スポット&quot;</td><td>236</td><td>[0.030738, 0.017356, … 0.000534]</td><td>[-0.179668, 0.43921, … 0.030658]</td><td>0.622142</td></tr><tr><td>&quot;ChIJM9xJEHeLGGARAshMWUgC_ls&quot;</td><td>&quot;ChdDSUhNMG9nS0VJQ0FnSURqNjdqLX…</td><td>&quot;外国人にも優しい環境&quot;</td><td>518</td><td>[0.019292, -0.009432, … 0.002982]</td><td>[0.082765, 0.11864, … 0.025674]</td><td>0.615436</td></tr><tr><td>&quot;ChIJ4Rr2JWiLGGARcyRSHuZ-9G8&quot;</td><td>&quot;ChZDSUhNMG9nS0VJQ0FnSUN6M3BLek…</td><td>&quot;海外からの観光客に喜んでもらえる&quot;</td><td>1774</td><td>[0.02009, -0.005817, … -0.002197]</td><td>[-0.078679, 0.29397, … -0.01713]</td><td>0.57767</td></tr></tbody></table></div>"
      ],
      "text/plain": [
       "shape: (5, 7)\n",
       "┌───────────────┬───────────────┬──────────────┬──────┬──────────────┬──────────────┬──────────────┐\n",
       "│ place_id      ┆ review_id     ┆ feature      ┆ key  ┆ embedding    ┆ reduced_embe ┆ cosine_simil │\n",
       "│ ---           ┆ ---           ┆ ---          ┆ ---  ┆ ---          ┆ dding        ┆ arity        │\n",
       "│ str           ┆ str           ┆ str          ┆ i64  ┆ list[f64]    ┆ ---          ┆ ---          │\n",
       "│               ┆               ┆              ┆      ┆              ┆ list[f64]    ┆ f64          │\n",
       "╞═══════════════╪═══════════════╪══════════════╪══════╪══════════════╪══════════════╪══════════════╡\n",
       "│ ChIJM9xJEHeLG ┆ ChdDSUhNMG9nS ┆ 外国人観光客 ┆ 509  ┆ [0.050723,   ┆ [-0.169436,  ┆ 0.625686     │\n",
       "│ GARAshMWUgC_l ┆ 0VJQ0FnSURqNj ┆ にも人気     ┆      ┆ 0.005674, …  ┆ 0.392744, …  ┆              │\n",
       "│ s             ┆ dqLX…         ┆              ┆      ┆ -0.0077…     ┆ 0.0192…      ┆              │\n",
       "│ ChIJK9584NuMG ┆ ChdDSUhNMG9nS ┆ 外国人にも人 ┆ 693  ┆ [0.03074,    ┆ [-0.179647,  ┆ 0.622217     │\n",
       "│ GARVKfZjpYoQD ┆ 0VJQ0FnSUR6c3 ┆ 気の観光スポ ┆      ┆ 0.017347, …  ┆ 0.439145, …  ┆              │\n",
       "│ s             ┆ N2aD…         ┆ ット         ┆      ┆ 0.000512…    ┆ 0.0306…      ┆              │\n",
       "│ ChIJCewJkL2LG ┆ ChdDSUhNMG9nS ┆ 外国人にも人 ┆ 236  ┆ [0.030738,   ┆ [-0.179668,  ┆ 0.622142     │\n",
       "│ GAR3Qmk0vCTGk ┆ 0VJQ0FnSURUd1 ┆ 気の観光スポ ┆      ┆ 0.017356, …  ┆ 0.43921, …   ┆              │\n",
       "│ g             ┆ ppQ2…         ┆ ット         ┆      ┆ 0.00053…     ┆ 0.03065…     ┆              │\n",
       "│ ChIJM9xJEHeLG ┆ ChdDSUhNMG9nS ┆ 外国人にも優 ┆ 518  ┆ [0.019292,   ┆ [0.082765,   ┆ 0.615436     │\n",
       "│ GARAshMWUgC_l ┆ 0VJQ0FnSURqNj ┆ しい環境     ┆      ┆ -0.009432, … ┆ 0.11864, …   ┆              │\n",
       "│ s             ┆ dqLX…         ┆              ┆      ┆ 0.0029…      ┆ 0.025674…    ┆              │\n",
       "│ ChIJ4Rr2JWiLG ┆ ChZDSUhNMG9nS ┆ 海外からの観 ┆ 1774 ┆ [0.02009,    ┆ [-0.078679,  ┆ 0.57767      │\n",
       "│ GARcyRSHuZ-9G ┆ 0VJQ0FnSUN6M3 ┆ 光客に喜んで ┆      ┆ -0.005817, … ┆ 0.29397, …   ┆              │\n",
       "│ 8             ┆ BLek…         ┆ もらえる     ┆      ┆ -0.0021…     ┆ -0.0171…     ┆              │\n",
       "└───────────────┴───────────────┴──────────────┴──────┴──────────────┴──────────────┴──────────────┘"
      ]
     },
     "execution_count": 37,
     "metadata": {},
     "output_type": "execute_result"
    }
   ],
   "source": [
    "# Example usage\n",
    "sorted_embeddings = measure_execution_time(get_comp_similarity, search_embedding, embeddings, pca, iterations=10)\n",
    "sorted_embeddings.head(5)\n"
   ]
  },
  {
   "cell_type": "code",
   "execution_count": 38,
   "metadata": {},
   "outputs": [
    {
     "name": "stderr",
     "output_type": "stream",
     "text": [
      "/var/folders/97/ycz7vyts3nb9l4w_17fp37800000gn/T/ipykernel_36593/3426013525.py:33: DeprecationWarning: `apply` is deprecated. It has been renamed to `map_elements`.\n",
      "  embeddings[\"reduced_embedding\"]\n",
      "/var/folders/97/ycz7vyts3nb9l4w_17fp37800000gn/T/ipykernel_36593/3426013525.py:33: MapWithoutReturnDtypeWarning: Calling `map_elements` without specifying `return_dtype` can lead to unpredictable results. Specify `return_dtype` to silence this warning.\n",
      "  embeddings[\"reduced_embedding\"]\n"
     ]
    },
    {
     "data": {
      "text/html": [
       "<div><style>\n",
       ".dataframe > thead > tr,\n",
       ".dataframe > tbody > tr {\n",
       "  text-align: right;\n",
       "  white-space: pre-wrap;\n",
       "}\n",
       "</style>\n",
       "<small>shape: (5, 7)</small><table border=\"1\" class=\"dataframe\"><thead><tr><th>place_id</th><th>review_id</th><th>feature</th><th>key</th><th>embedding</th><th>reduced_embedding</th><th>cosine_similarity</th></tr><tr><td>str</td><td>str</td><td>str</td><td>i64</td><td>list[f64]</td><td>list[f64]</td><td>f64</td></tr></thead><tbody><tr><td>&quot;ChIJAQCTx8uMGGARpNjDI6maHdc&quot;</td><td>&quot;ChZDSUhNMG9nS0VJQ0FnSUNOeHI2M2…</td><td>&quot;子供たちの楽しさが感じられる場所&quot;</td><td>2590</td><td>[0.06447, 0.009691, … 0.002378]</td><td>[0.247693, 0.112016, … 0.011193]</td><td>0.638628</td></tr><tr><td>&quot;ChIJHeBCIOyMGGAR7BktETlUP_w&quot;</td><td>&quot;ChdDSUhNMG9nS0VJQ0FnSUNON3ZDYi…</td><td>&quot;子供と一緒に楽しむことができる場所&quot;</td><td>3887</td><td>[0.051534, -0.014964, … 0.013816]</td><td>[0.133147, 0.111245, … -0.013014]</td><td>0.562721</td></tr><tr><td>&quot;ChIJf4O1UMCMGGARZ6nQzxTLK1E&quot;</td><td>&quot;ChZDSUhNMG9nS0VJQ0FnSUN6bVlPdV…</td><td>&quot;子供たちにとって刺激的な場所である。&quot;</td><td>3646</td><td>[0.05418, -0.00057, … 0.001293]</td><td>[0.06807, 0.023603, … 0.018761]</td><td>0.55961</td></tr><tr><td>&quot;ChIJf4O1UMCMGGARZ6nQzxTLK1E&quot;</td><td>&quot;ChZDSUhNMG9nS0VJQ0FnSUN6bVlPdV…</td><td>&quot;子供たちにとって学びがある場所である。&quot;</td><td>3635</td><td>[0.014487, -0.017748, … 0.004655]</td><td>[0.009517, -0.004672, … 0.002989]</td><td>0.548029</td></tr><tr><td>&quot;ChIJzRzI3HSNGGARRwZW6AtJfi0&quot;</td><td>&quot;ChdDSUhNMG9nS0VJQ0FnSUR6cFpubj…</td><td>&quot;子供たちにとって刺激的な場所&quot;</td><td>432</td><td>[0.064909, 0.004485, … 0.005009]</td><td>[0.076191, 0.017012, … 0.007103]</td><td>0.54049</td></tr></tbody></table></div>"
      ],
      "text/plain": [
       "shape: (5, 7)\n",
       "┌───────────────┬───────────────┬──────────────┬──────┬──────────────┬──────────────┬──────────────┐\n",
       "│ place_id      ┆ review_id     ┆ feature      ┆ key  ┆ embedding    ┆ reduced_embe ┆ cosine_simil │\n",
       "│ ---           ┆ ---           ┆ ---          ┆ ---  ┆ ---          ┆ dding        ┆ arity        │\n",
       "│ str           ┆ str           ┆ str          ┆ i64  ┆ list[f64]    ┆ ---          ┆ ---          │\n",
       "│               ┆               ┆              ┆      ┆              ┆ list[f64]    ┆ f64          │\n",
       "╞═══════════════╪═══════════════╪══════════════╪══════╪══════════════╪══════════════╪══════════════╡\n",
       "│ ChIJAQCTx8uMG ┆ ChZDSUhNMG9nS ┆ 子供たちの楽 ┆ 2590 ┆ [0.06447,    ┆ [0.247693,   ┆ 0.638628     │\n",
       "│ GARpNjDI6maHd ┆ 0VJQ0FnSUNOeH ┆ しさが感じら ┆      ┆ 0.009691, …  ┆ 0.112016, …  ┆              │\n",
       "│ c             ┆ I2M2…         ┆ れる場所     ┆      ┆ 0.002378…    ┆ 0.01119…     ┆              │\n",
       "│ ChIJHeBCIOyMG ┆ ChdDSUhNMG9nS ┆ 子供と一緒に ┆ 3887 ┆ [0.051534,   ┆ [0.133147,   ┆ 0.562721     │\n",
       "│ GAR7BktETlUP_ ┆ 0VJQ0FnSUNON3 ┆ 楽しむことが ┆      ┆ -0.014964, … ┆ 0.111245, …  ┆              │\n",
       "│ w             ┆ ZDYi…         ┆ できる場所   ┆      ┆ 0.0138…      ┆ -0.0130…     ┆              │\n",
       "│ ChIJf4O1UMCMG ┆ ChZDSUhNMG9nS ┆ 子供たちにと ┆ 3646 ┆ [0.05418,    ┆ [0.06807,    ┆ 0.55961      │\n",
       "│ GARZ6nQzxTLK1 ┆ 0VJQ0FnSUN6bV ┆ って刺激的な ┆      ┆ -0.00057, …  ┆ 0.023603, …  ┆              │\n",
       "│ E             ┆ lPdV…         ┆ 場所である。 ┆      ┆ 0.001293…    ┆ 0.018761…    ┆              │\n",
       "│ ChIJf4O1UMCMG ┆ ChZDSUhNMG9nS ┆ 子供たちにと ┆ 3635 ┆ [0.014487,   ┆ [0.009517,   ┆ 0.548029     │\n",
       "│ GARZ6nQzxTLK1 ┆ 0VJQ0FnSUN6bV ┆ って学びがあ ┆      ┆ -0.017748, … ┆ -0.004672, … ┆              │\n",
       "│ E             ┆ lPdV…         ┆ る場所である ┆      ┆ 0.0046…      ┆ 0.0029…      ┆              │\n",
       "│               ┆               ┆ 。           ┆      ┆              ┆              ┆              │\n",
       "│ ChIJzRzI3HSNG ┆ ChdDSUhNMG9nS ┆ 子供たちにと ┆ 432  ┆ [0.064909,   ┆ [0.076191,   ┆ 0.54049      │\n",
       "│ GARRwZW6AtJfi ┆ 0VJQ0FnSUR6cF ┆ って刺激的な ┆      ┆ 0.004485, …  ┆ 0.017012, …  ┆              │\n",
       "│ 0             ┆ pubj…         ┆ 場所         ┆      ┆ 0.00500…     ┆ 0.00710…     ┆              │\n",
       "└───────────────┴───────────────┴──────────────┴──────┴──────────────┴──────────────┴──────────────┘"
      ]
     },
     "execution_count": 38,
     "metadata": {},
     "output_type": "execute_result"
    }
   ],
   "source": [
    "# Example usage\n",
    "sorted_embeddings = get_comp_similarity(search_embedding2, embeddings, pca)\n",
    "sorted_embeddings.head(5)\n"
   ]
  },
  {
   "cell_type": "code",
   "execution_count": 39,
   "metadata": {},
   "outputs": [],
   "source": [
    "import os\n",
    "import json\n",
    "import numpy as np\n",
    "import polars as pl\n",
    "from sklearn.decomposition import FastICA\n",
    "from sklearn.metrics.pairwise import cosine_similarity\n",
    "from dotenv import load_dotenv\n",
    "from openai import OpenAI\n",
    "\n",
    "# Load the .env file\n",
    "load_dotenv(\"../.env\")\n",
    "client = OpenAI()\n",
    "\n",
    "json_file_path = \"../data/inputs/embeddings.json\"\n",
    "embeddings = pl.read_json(json_file_path)\n",
    "\n",
    "# Extract embeddings to a numpy array for ICA\n",
    "embedding_matrix = np.array(embeddings[\"embedding\"].to_list())\n",
    "\n",
    "# Perform ICA to reduce dimensionality\n",
    "ica = FastICA(n_components=200)  # Adjust the number of components as needed\n",
    "reduced_embeddings = ica.fit_transform(embedding_matrix)\n",
    "\n",
    "# Replace the original embeddings in the DataFrame with the reduced embeddings\n",
    "embeddings = embeddings.with_columns(pl.Series(\"reduced_embedding\", reduced_embeddings.tolist()))\n"
   ]
  },
  {
   "cell_type": "code",
   "execution_count": null,
   "metadata": {},
   "outputs": [
    {
     "name": "stderr",
     "output_type": "stream",
     "text": [
      "/var/folders/97/ycz7vyts3nb9l4w_17fp37800000gn/T/ipykernel_36593/3426013525.py:33: DeprecationWarning: `apply` is deprecated. It has been renamed to `map_elements`.\n",
      "  embeddings[\"reduced_embedding\"]\n",
      "/var/folders/97/ycz7vyts3nb9l4w_17fp37800000gn/T/ipykernel_36593/3426013525.py:33: MapWithoutReturnDtypeWarning: Calling `map_elements` without specifying `return_dtype` can lead to unpredictable results. Specify `return_dtype` to silence this warning.\n",
      "  embeddings[\"reduced_embedding\"]\n"
     ]
    },
    {
     "data": {
      "text/html": [
       "<div><style>\n",
       ".dataframe > thead > tr,\n",
       ".dataframe > tbody > tr {\n",
       "  text-align: right;\n",
       "  white-space: pre-wrap;\n",
       "}\n",
       "</style>\n",
       "<small>shape: (5, 7)</small><table border=\"1\" class=\"dataframe\"><thead><tr><th>place_id</th><th>review_id</th><th>feature</th><th>key</th><th>embedding</th><th>reduced_embedding</th><th>cosine_similarity</th></tr><tr><td>str</td><td>str</td><td>str</td><td>i64</td><td>list[f64]</td><td>list[f64]</td><td>f64</td></tr></thead><tbody><tr><td>&quot;ChIJP9eKBdeMGGAR0zzBXJNVj5A&quot;</td><td>&quot;ChdDSUhNMG9nS0VJQ0FnSUM5dU9TQ2…</td><td>&quot;外国人との交流が楽しめる&quot;</td><td>104</td><td>[-0.002273, -0.005705, … -0.004685]</td><td>[-0.582492, -0.182544, … 0.11698]</td><td>0.548342</td></tr><tr><td>&quot;ChIJM9xJEHeLGGARAshMWUgC_ls&quot;</td><td>&quot;ChdDSUhNMG9nS0VJQ0FnSURqNjdqLX…</td><td>&quot;外国人にも優しい環境&quot;</td><td>518</td><td>[0.019292, -0.009432, … 0.002982]</td><td>[-0.428731, 0.524611, … -0.076985]</td><td>0.537634</td></tr><tr><td>&quot;ChIJCewJkL2LGGAR3Qmk0vCTGkg&quot;</td><td>&quot;ChdDSUhNMG9nS0VJQ0FnSURUd1ppQ2…</td><td>&quot;外国人にも人気の観光スポット&quot;</td><td>236</td><td>[0.030738, 0.017356, … 0.000534]</td><td>[0.060362, -0.532813, … 0.56915]</td><td>0.499647</td></tr><tr><td>&quot;ChIJK9584NuMGGARVKfZjpYoQDs&quot;</td><td>&quot;ChdDSUhNMG9nS0VJQ0FnSUR6c3N2aD…</td><td>&quot;外国人にも人気の観光スポット&quot;</td><td>693</td><td>[0.03074, 0.017347, … 0.000512]</td><td>[0.060375, -0.534344, … 0.569095]</td><td>0.49962</td></tr><tr><td>&quot;ChIJP9eKBdeMGGAR0zzBXJNVj5A&quot;</td><td>&quot;ChdDSUhNMG9nS0VJQ0FnSUM5dU9TQ2…</td><td>&quot;外国の味が楽しめる&quot;</td><td>113</td><td>[-0.030375, -0.002719, … -0.028685]</td><td>[-0.067865, -0.211163, … -0.248195]</td><td>0.499428</td></tr></tbody></table></div>"
      ],
      "text/plain": [
       "shape: (5, 7)\n",
       "┌───────────────┬───────────────┬───────────────┬─────┬──────────────┬──────────────┬──────────────┐\n",
       "│ place_id      ┆ review_id     ┆ feature       ┆ key ┆ embedding    ┆ reduced_embe ┆ cosine_simil │\n",
       "│ ---           ┆ ---           ┆ ---           ┆ --- ┆ ---          ┆ dding        ┆ arity        │\n",
       "│ str           ┆ str           ┆ str           ┆ i64 ┆ list[f64]    ┆ ---          ┆ ---          │\n",
       "│               ┆               ┆               ┆     ┆              ┆ list[f64]    ┆ f64          │\n",
       "╞═══════════════╪═══════════════╪═══════════════╪═════╪══════════════╪══════════════╪══════════════╡\n",
       "│ ChIJP9eKBdeMG ┆ ChdDSUhNMG9nS ┆ 外国人との交  ┆ 104 ┆ [-0.002273,  ┆ [-0.582492,  ┆ 0.548342     │\n",
       "│ GAR0zzBXJNVj5 ┆ 0VJQ0FnSUM5dU ┆ 流が楽しめる  ┆     ┆ -0.005705, … ┆ -0.182544, … ┆              │\n",
       "│ A             ┆ 9TQ2…         ┆               ┆     ┆ -0.00…       ┆ 0.116…       ┆              │\n",
       "│ ChIJM9xJEHeLG ┆ ChdDSUhNMG9nS ┆ 外国人にも優  ┆ 518 ┆ [0.019292,   ┆ [-0.428731,  ┆ 0.537634     │\n",
       "│ GARAshMWUgC_l ┆ 0VJQ0FnSURqNj ┆ しい環境      ┆     ┆ -0.009432, … ┆ 0.524611, …  ┆              │\n",
       "│ s             ┆ dqLX…         ┆               ┆     ┆ 0.0029…      ┆ -0.076…      ┆              │\n",
       "│ ChIJCewJkL2LG ┆ ChdDSUhNMG9nS ┆ 外国人にも人  ┆ 236 ┆ [0.030738,   ┆ [0.060362,   ┆ 0.499647     │\n",
       "│ GAR3Qmk0vCTGk ┆ 0VJQ0FnSURUd1 ┆ 気の観光スポ  ┆     ┆ 0.017356, …  ┆ -0.532813, … ┆              │\n",
       "│ g             ┆ ppQ2…         ┆ ット          ┆     ┆ 0.00053…     ┆ 0.5691…      ┆              │\n",
       "│ ChIJK9584NuMG ┆ ChdDSUhNMG9nS ┆ 外国人にも人  ┆ 693 ┆ [0.03074,    ┆ [0.060375,   ┆ 0.49962      │\n",
       "│ GARVKfZjpYoQD ┆ 0VJQ0FnSUR6c3 ┆ 気の観光スポ  ┆     ┆ 0.017347, …  ┆ -0.534344, … ┆              │\n",
       "│ s             ┆ N2aD…         ┆ ット          ┆     ┆ 0.000512…    ┆ 0.5690…      ┆              │\n",
       "│ ChIJP9eKBdeMG ┆ ChdDSUhNMG9nS ┆ 外国の味が楽  ┆ 113 ┆ [-0.030375,  ┆ [-0.067865,  ┆ 0.499428     │\n",
       "│ GAR0zzBXJNVj5 ┆ 0VJQ0FnSUM5dU ┆ しめる        ┆     ┆ -0.002719, … ┆ -0.211163, … ┆              │\n",
       "│ A             ┆ 9TQ2…         ┆               ┆     ┆ -0.02…       ┆ -0.24…       ┆              │\n",
       "└───────────────┴───────────────┴───────────────┴─────┴──────────────┴──────────────┴──────────────┘"
      ]
     },
     "execution_count": 24,
     "metadata": {},
     "output_type": "execute_result"
    }
   ],
   "source": [
    "# Example usage\n",
    "sorted_embeddings = measure_execution_time(get_comp_similarity, search_embedding, embeddings, ica, iterations=10)\n",
    "sorted_embeddings.head(5)"
   ]
  },
  {
   "cell_type": "code",
   "execution_count": null,
   "metadata": {},
   "outputs": [
    {
     "name": "stderr",
     "output_type": "stream",
     "text": [
      "/var/folders/97/ycz7vyts3nb9l4w_17fp37800000gn/T/ipykernel_36593/3426013525.py:33: DeprecationWarning: `apply` is deprecated. It has been renamed to `map_elements`.\n",
      "  embeddings[\"reduced_embedding\"]\n",
      "/var/folders/97/ycz7vyts3nb9l4w_17fp37800000gn/T/ipykernel_36593/3426013525.py:33: MapWithoutReturnDtypeWarning: Calling `map_elements` without specifying `return_dtype` can lead to unpredictable results. Specify `return_dtype` to silence this warning.\n",
      "  embeddings[\"reduced_embedding\"]\n"
     ]
    },
    {
     "data": {
      "text/html": [
       "<div><style>\n",
       ".dataframe > thead > tr,\n",
       ".dataframe > tbody > tr {\n",
       "  text-align: right;\n",
       "  white-space: pre-wrap;\n",
       "}\n",
       "</style>\n",
       "<small>shape: (5, 7)</small><table border=\"1\" class=\"dataframe\"><thead><tr><th>place_id</th><th>review_id</th><th>feature</th><th>key</th><th>embedding</th><th>reduced_embedding</th><th>cosine_similarity</th></tr><tr><td>str</td><td>str</td><td>str</td><td>i64</td><td>list[f64]</td><td>list[f64]</td><td>f64</td></tr></thead><tbody><tr><td>&quot;ChIJMZVITVyNGGARSNITQ5VS1yU&quot;</td><td>&quot;ChZDSUhNMG9nS0VJQ0FnSUNqb3Fuek…</td><td>&quot;暑い日には噴水周辺が涼しくて過ごしやすい&quot;</td><td>1333</td><td>[0.02521, 0.008119, … 0.027153]</td><td>[-0.428004, 1.209492, … 0.909708]</td><td>0.368601</td></tr><tr><td>&quot;ChIJK9584NuMGGARVKfZjpYoQDs&quot;</td><td>&quot;ChdDSUhNMG9nS0VJQ0FnSURqb28yam…</td><td>&quot;運動不足や暑さに慣れていない人には辛いかもしれない&quot;</td><td>645</td><td>[0.032247, -0.009529, … -0.000242]</td><td>[1.415757, -1.530714, … -0.376637]</td><td>0.360406</td></tr><tr><td>&quot;ChIJbWVFlTCKGGARr5l6ox-7_CA&quot;</td><td>&quot;ChdDSUhNMG9nS0VJQ0FnSURqLUlleX…</td><td>&quot;暑い日でも肌寒いため、薄手の長袖を着用することがおすすめ&quot;</td><td>3058</td><td>[0.052504, 0.019623, … -0.012547]</td><td>[0.082357, 0.322924, … -0.132739]</td><td>0.346356</td></tr><tr><td>&quot;ChIJMwpiebSMGGARPr_454zHvDQ&quot;</td><td>&quot;ChZDSUhNMG9nS0VJQ0FnSUNUMUszRU…</td><td>&quot;公園内は30度の予報にもかかわらず涼しく、快適に過ごせる環境&quot;</td><td>155</td><td>[0.030293, -0.007434, … 0.000526]</td><td>[0.489064, 0.343984, … -0.714974]</td><td>0.329417</td></tr><tr><td>&quot;ChIJK9584NuMGGARVKfZjpYoQDs&quot;</td><td>&quot;ChdDSUhNMG9nS0VJQ0FnSURqb28yam…</td><td>&quot;夏には暑くなることがある&quot;</td><td>643</td><td>[-0.010203, 0.0531, … 0.004278]</td><td>[-0.090706, 0.326859, … 0.080392]</td><td>0.317768</td></tr></tbody></table></div>"
      ],
      "text/plain": [
       "shape: (5, 7)\n",
       "┌───────────────┬───────────────┬──────────────┬──────┬──────────────┬──────────────┬──────────────┐\n",
       "│ place_id      ┆ review_id     ┆ feature      ┆ key  ┆ embedding    ┆ reduced_embe ┆ cosine_simil │\n",
       "│ ---           ┆ ---           ┆ ---          ┆ ---  ┆ ---          ┆ dding        ┆ arity        │\n",
       "│ str           ┆ str           ┆ str          ┆ i64  ┆ list[f64]    ┆ ---          ┆ ---          │\n",
       "│               ┆               ┆              ┆      ┆              ┆ list[f64]    ┆ f64          │\n",
       "╞═══════════════╪═══════════════╪══════════════╪══════╪══════════════╪══════════════╪══════════════╡\n",
       "│ ChIJMZVITVyNG ┆ ChZDSUhNMG9nS ┆ 暑い日には噴 ┆ 1333 ┆ [0.02521,    ┆ [-0.428004,  ┆ 0.368601     │\n",
       "│ GARSNITQ5VS1y ┆ 0VJQ0FnSUNqb3 ┆ 水周辺が涼し ┆      ┆ 0.008119, …  ┆ 1.209492, …  ┆              │\n",
       "│ U             ┆ Fuek…         ┆ くて過ごしや ┆      ┆ 0.027153…    ┆ 0.9097…      ┆              │\n",
       "│               ┆               ┆ すい         ┆      ┆              ┆              ┆              │\n",
       "│ ChIJK9584NuMG ┆ ChdDSUhNMG9nS ┆ 運動不足や暑 ┆ 645  ┆ [0.032247,   ┆ [1.415757,   ┆ 0.360406     │\n",
       "│ GARVKfZjpYoQD ┆ 0VJQ0FnSURqb2 ┆ さに慣れてい ┆      ┆ -0.009529, … ┆ -1.530714, … ┆              │\n",
       "│ s             ┆ 8yam…         ┆ ない人には辛 ┆      ┆ -0.000…      ┆ -0.376…      ┆              │\n",
       "│               ┆               ┆ いかもしれな ┆      ┆              ┆              ┆              │\n",
       "│               ┆               ┆ い           ┆      ┆              ┆              ┆              │\n",
       "│ ChIJbWVFlTCKG ┆ ChdDSUhNMG9nS ┆ 暑い日でも肌 ┆ 3058 ┆ [0.052504,   ┆ [0.082357,   ┆ 0.346356     │\n",
       "│ GARr5l6ox-7_C ┆ 0VJQ0FnSURqLU ┆ 寒いため、薄 ┆      ┆ 0.019623, …  ┆ 0.322924, …  ┆              │\n",
       "│ A             ┆ lleX…         ┆ 手の長袖を着 ┆      ┆ -0.0125…     ┆ -0.1327…     ┆              │\n",
       "│               ┆               ┆ 用することが ┆      ┆              ┆              ┆              │\n",
       "│               ┆               ┆ おすすめ     ┆      ┆              ┆              ┆              │\n",
       "│ ChIJMwpiebSMG ┆ ChZDSUhNMG9nS ┆ 公園内は30度 ┆ 155  ┆ [0.030293,   ┆ [0.489064,   ┆ 0.329417     │\n",
       "│ GARPr_454zHvD ┆ 0VJQ0FnSUNUMU ┆ の予報にもか ┆      ┆ -0.007434, … ┆ 0.343984, …  ┆              │\n",
       "│ Q             ┆ szRU…         ┆ かわらず涼し ┆      ┆ 0.0005…      ┆ -0.7149…     ┆              │\n",
       "│               ┆               ┆ く、快適に過 ┆      ┆              ┆              ┆              │\n",
       "│               ┆               ┆ ごせる環境   ┆      ┆              ┆              ┆              │\n",
       "│ ChIJK9584NuMG ┆ ChdDSUhNMG9nS ┆ 夏には暑くな ┆ 643  ┆ [-0.010203,  ┆ [-0.090706,  ┆ 0.317768     │\n",
       "│ GARVKfZjpYoQD ┆ 0VJQ0FnSURqb2 ┆ ることがある ┆      ┆ 0.0531, …    ┆ 0.326859, …  ┆              │\n",
       "│ s             ┆ 8yam…         ┆              ┆      ┆ 0.004278…    ┆ 0.0803…      ┆              │\n",
       "└───────────────┴───────────────┴──────────────┴──────┴──────────────┴──────────────┴──────────────┘"
      ]
     },
     "execution_count": 25,
     "metadata": {},
     "output_type": "execute_result"
    }
   ],
   "source": [
    "# Example usage\n",
    "sorted_embeddings = get_comp_similarity(search_embedding2, embeddings, ica)\n",
    "sorted_embeddings.head(5)\n"
   ]
  },
  {
   "cell_type": "code",
   "execution_count": null,
   "metadata": {},
   "outputs": [
    {
     "name": "stderr",
     "output_type": "stream",
     "text": [
      "/var/folders/97/ycz7vyts3nb9l4w_17fp37800000gn/T/ipykernel_36593/3426013525.py:33: DeprecationWarning: `apply` is deprecated. It has been renamed to `map_elements`.\n",
      "  embeddings[\"reduced_embedding\"]\n",
      "/var/folders/97/ycz7vyts3nb9l4w_17fp37800000gn/T/ipykernel_36593/3426013525.py:33: MapWithoutReturnDtypeWarning: Calling `map_elements` without specifying `return_dtype` can lead to unpredictable results. Specify `return_dtype` to silence this warning.\n",
      "  embeddings[\"reduced_embedding\"]\n"
     ]
    },
    {
     "data": {
      "text/html": [
       "<div><style>\n",
       ".dataframe > thead > tr,\n",
       ".dataframe > tbody > tr {\n",
       "  text-align: right;\n",
       "  white-space: pre-wrap;\n",
       "}\n",
       "</style>\n",
       "<small>shape: (5, 7)</small><table border=\"1\" class=\"dataframe\"><thead><tr><th>place_id</th><th>review_id</th><th>feature</th><th>key</th><th>embedding</th><th>reduced_embedding</th><th>cosine_similarity</th></tr><tr><td>str</td><td>str</td><td>str</td><td>i64</td><td>list[f64]</td><td>list[f64]</td><td>f64</td></tr></thead><tbody><tr><td>&quot;ChIJ6xA0pKSMGGAREB8mFuuaPYo&quot;</td><td>&quot;ChdDSUhNMG9nS0VJQ0FnSUNMd3FYcn…</td><td>&quot;地元の伝統工芸品が販売されている&quot;</td><td>4044</td><td>[0.036521, 0.051619, … -0.02104]</td><td>[-1.039584, -0.101258, … -0.35438]</td><td>0.318612</td></tr><tr><td>&quot;ChIJPd37MMGOGGARvJ2hfxoiNVE&quot;</td><td>&quot;ChZDSUhNMG9nS0VJQ0FnSUNEbEtxZm…</td><td>&quot;伝統工芸品などの販売も行われている&quot;</td><td>1099</td><td>[0.050246, 0.047429, … -0.03082]</td><td>[-0.960863, 0.127202, … -0.590703]</td><td>0.310075</td></tr><tr><td>&quot;ChIJK9584NuMGGARVKfZjpYoQDs&quot;</td><td>&quot;ChdDSUhNMG9nS0VJQ0FnSUR6c3N2aD…</td><td>&quot;地元のお姉さまたちが伝統的な盆踊りを品よく踊る&quot;</td><td>670</td><td>[0.041023, 0.035715, … -0.027211]</td><td>[-0.166318, -0.99667, … -0.527394]</td><td>0.250188</td></tr><tr><td>&quot;ChIJtW7K92qNGGARBBLnvRhDQPM&quot;</td><td>&quot;ChdDSUhNMG9nS0VJQ0FnSURUMV95aj…</td><td>&quot;伝統と現代が共存している雰囲気がする&quot;</td><td>2548</td><td>[0.029849, 0.011282, … -0.006944]</td><td>[0.123089, 0.146152, … -0.571432]</td><td>0.240777</td></tr><tr><td>&quot;ChIJxU48-2OLGGARHMtB5RAhytA&quot;</td><td>&quot;ChdDSUhNMG9nS0VJQ0FnSUNMeE9XST…</td><td>&quot;伝統美と現代美の融合が特徴的&quot;</td><td>3485</td><td>[0.010537, 0.015855, … -0.010211]</td><td>[2.066813, -0.197476, … -0.518551]</td><td>0.234959</td></tr></tbody></table></div>"
      ],
      "text/plain": [
       "shape: (5, 7)\n",
       "┌───────────────┬───────────────┬──────────────┬──────┬──────────────┬──────────────┬──────────────┐\n",
       "│ place_id      ┆ review_id     ┆ feature      ┆ key  ┆ embedding    ┆ reduced_embe ┆ cosine_simil │\n",
       "│ ---           ┆ ---           ┆ ---          ┆ ---  ┆ ---          ┆ dding        ┆ arity        │\n",
       "│ str           ┆ str           ┆ str          ┆ i64  ┆ list[f64]    ┆ ---          ┆ ---          │\n",
       "│               ┆               ┆              ┆      ┆              ┆ list[f64]    ┆ f64          │\n",
       "╞═══════════════╪═══════════════╪══════════════╪══════╪══════════════╪══════════════╪══════════════╡\n",
       "│ ChIJ6xA0pKSMG ┆ ChdDSUhNMG9nS ┆ 地元の伝統工 ┆ 4044 ┆ [0.036521,   ┆ [-1.039584,  ┆ 0.318612     │\n",
       "│ GAREB8mFuuaPY ┆ 0VJQ0FnSUNMd3 ┆ 芸品が販売さ ┆      ┆ 0.051619, …  ┆ -0.101258, … ┆              │\n",
       "│ o             ┆ FYcn…         ┆ れている     ┆      ┆ -0.0210…     ┆ -0.35…       ┆              │\n",
       "│ ChIJPd37MMGOG ┆ ChZDSUhNMG9nS ┆ 伝統工芸品な ┆ 1099 ┆ [0.050246,   ┆ [-0.960863,  ┆ 0.310075     │\n",
       "│ GARvJ2hfxoiNV ┆ 0VJQ0FnSUNEbE ┆ どの販売も行 ┆      ┆ 0.047429, …  ┆ 0.127202, …  ┆              │\n",
       "│ E             ┆ txZm…         ┆ われている   ┆      ┆ -0.0308…     ┆ -0.590…      ┆              │\n",
       "│ ChIJK9584NuMG ┆ ChdDSUhNMG9nS ┆ 地元のお姉さ ┆ 670  ┆ [0.041023,   ┆ [-0.166318,  ┆ 0.250188     │\n",
       "│ GARVKfZjpYoQD ┆ 0VJQ0FnSUR6c3 ┆ またちが伝統 ┆      ┆ 0.035715, …  ┆ -0.99667, …  ┆              │\n",
       "│ s             ┆ N2aD…         ┆ 的な盆踊りを ┆      ┆ -0.0272…     ┆ -0.527…      ┆              │\n",
       "│               ┆               ┆ 品よく踊る   ┆      ┆              ┆              ┆              │\n",
       "│ ChIJtW7K92qNG ┆ ChdDSUhNMG9nS ┆ 伝統と現代が ┆ 2548 ┆ [0.029849,   ┆ [0.123089,   ┆ 0.240777     │\n",
       "│ GARBBLnvRhDQP ┆ 0VJQ0FnSURUMV ┆ 共存している ┆      ┆ 0.011282, …  ┆ 0.146152, …  ┆              │\n",
       "│ M             ┆ 95aj…         ┆ 雰囲気がする ┆      ┆ -0.0069…     ┆ -0.5714…     ┆              │\n",
       "│ ChIJxU48-2OLG ┆ ChdDSUhNMG9nS ┆ 伝統美と現代 ┆ 3485 ┆ [0.010537,   ┆ [2.066813,   ┆ 0.234959     │\n",
       "│ GARHMtB5RAhyt ┆ 0VJQ0FnSUNMeE ┆ 美の融合が特 ┆      ┆ 0.015855, …  ┆ -0.197476, … ┆              │\n",
       "│ A             ┆ 9XST…         ┆ 徴的         ┆      ┆ -0.0102…     ┆ -0.518…      ┆              │\n",
       "└───────────────┴───────────────┴──────────────┴──────┴──────────────┴──────────────┴──────────────┘"
      ]
     },
     "execution_count": 26,
     "metadata": {},
     "output_type": "execute_result"
    }
   ],
   "source": [
    "# Example usage\n",
    "sorted_embeddings = get_comp_similarity(search_embedding3, embeddings, ica)\n",
    "sorted_embeddings.head(5)\n"
   ]
  },
  {
   "cell_type": "code",
   "execution_count": null,
   "metadata": {},
   "outputs": [],
   "source": []
  },
  {
   "cell_type": "code",
   "execution_count": null,
   "metadata": {},
   "outputs": [],
   "source": []
  }
 ],
 "metadata": {
  "kernelspec": {
   "display_name": "tf",
   "language": "python",
   "name": "python3"
  },
  "language_info": {
   "codemirror_mode": {
    "name": "ipython",
    "version": 3
   },
   "file_extension": ".py",
   "mimetype": "text/x-python",
   "name": "python",
   "nbconvert_exporter": "python",
   "pygments_lexer": "ipython3",
   "version": "3.9.15"
  }
 },
 "nbformat": 4,
 "nbformat_minor": 2
}
